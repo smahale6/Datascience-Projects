{
 "cells": [
  {
   "cell_type": "markdown",
   "metadata": {},
   "source": [
    "# Implementing EM algorithm for MNIST dataset. (50 points)"
   ]
  },
  {
   "cell_type": "markdown",
   "metadata": {},
   "source": [
    "Importing Modules"
   ]
  },
  {
   "cell_type": "code",
   "execution_count": 2,
   "metadata": {},
   "outputs": [],
   "source": [
    "import numpy as np\n",
    "import networkx as nx\n",
    "import seaborn as sns\n",
    "import pandas as pd\n",
    "from matplotlib import pyplot as plt\n",
    "from mpl_toolkits.mplot3d import Axes3D\n",
    "from matplotlib import cm\n",
    "import scipy.stats as st\n",
    "from sklearn.mixture import GaussianMixture as GMM"
   ]
  },
  {
   "cell_type": "markdown",
   "metadata": {},
   "source": [
    "Implement the EM algorithm for \f",
    "tting a Gaussian mixture model for the MNIST dataset. We reduce\n",
    "the dataset to be only two cases, of digits \\2\" and \\6\" only. Thus, you will \f",
    "t GMM with C = 2. Use\n",
    "the data \f",
    "le data.mat or data.dat on Canvas. True label of the data are also provided in label.mat and\n",
    "label.dat\n",
    "The matrix images is of size 784-by-1990, i.e., there are totally 1990 images, and each column of the\n",
    "matrix corresponds to one image of size 28-by-28 pixels (the image is vectorized; the original image\n",
    "can be recovered by map the vector into a matrix.)\n",
    "Hint: You may \f",
    "nd the notes speed-up-GMM.pdf useful, which explains how to evaluate the density of\n",
    "a multi-variate normal distribution. In this homework question, it is recommended you implement the\n",
    "evaluation of the Gaussian density this way, to avoid numerical issues.\n",
    "\n",
    "1a) (5 points) Select from data one raw image of \\2\" and \\6\" and visualize them, respectively."
   ]
  },
  {
   "cell_type": "code",
   "execution_count": 19,
   "metadata": {},
   "outputs": [
    {
     "data": {
      "text/plain": [
       "(-0.5, 27.5, 27.5, -0.5)"
      ]
     },
     "execution_count": 19,
     "metadata": {},
     "output_type": "execute_result"
    },
    {
     "data": {
      "image/png": "[encoded data removed]",
      "text/plain": [
       "<Figure size 432x288 with 2 Axes>"
      ]
     },
     "metadata": {
      "needs_background": "light"
     },
     "output_type": "display_data"
    }
   ],
   "source": [
    "data = pd.read_csv(\"data.dat\", sep='\\s+',header=None)\n",
    "\n",
    "plt.subplot(1,2,1)\n",
    "data_array_2 = np.reshape(np.array(data.iloc[:,1]),(28,28),order='F')\n",
    "plt.title(\"Image 2 Visualization\")\n",
    "plt.imshow(data_array_2,cmap=\"Greys_r\")\n",
    "plt.axis('off')\n",
    "\n",
    "plt.subplot(1,2,2)\n",
    "data_array_6 = np.reshape(np.array(data.iloc[:,1166]),(28,28),order='F')\n",
    "plt.title(\"Image 6 Visualization\")\n",
    "plt.imshow(data_array_6,cmap=\"Greys_r\")\n",
    "plt.axis('off')"
   ]
  },
  {
   "cell_type": "markdown",
   "metadata": {},
   "source": [
    "1b) (15 points) Use random Gaussian vector with zero mean as random initial means, and two identity\n",
    "matrices I as initial covariance matrices for the clusters. Plot the log-likelihood function versus\n",
    "the number of iterations to show your algorithm is converging."
   ]
  },
  {
   "cell_type": "code",
   "execution_count": 9,
   "metadata": {},
   "outputs": [
    {
     "name": "stdout",
     "output_type": "stream",
     "text": [
      "Iteration :  1 Likelihood:  14885.701235926983\n",
      "Iteration :  2 Likelihood:  46851.59986270405\n",
      "Iteration :  3 Likelihood:  46782.700938961265\n",
      "Iteration :  4 Likelihood:  46052.31432880674\n",
      "Iteration :  5 Likelihood:  44361.43229899639\n",
      "Iteration :  6 Likelihood:  45114.77454477634\n",
      "Iteration :  7 Likelihood:  45528.614382095184\n",
      "Iteration :  8 Likelihood:  45828.10889917601\n",
      "Iteration :  9 Likelihood:  45863.88705496906\n",
      "Iteration :  10 Likelihood:  46291.10297985966\n",
      "Iteration :  11 Likelihood:  46237.07880645297\n",
      "Iteration :  12 Likelihood:  46369.81110679535\n",
      "Iteration :  13 Likelihood:  46048.07378598313\n",
      "Iteration :  14 Likelihood:  46151.95578967555\n",
      "Iteration :  15 Likelihood:  45840.20251458795\n",
      "Iteration :  16 Likelihood:  45903.31476166817\n",
      "Iteration :  17 Likelihood:  45680.2576154547\n",
      "Iteration :  18 Likelihood:  45712.255427002325\n",
      "Iteration :  19 Likelihood:  45572.756714581745\n",
      "Iteration :  20 Likelihood:  45665.5005229383\n",
      "Iteration :  21 Likelihood:  45623.28322508851\n",
      "Iteration :  22 Likelihood:  45730.725699328934\n",
      "Iteration :  23 Likelihood:  45655.44750137876\n",
      "Iteration :  24 Likelihood:  45794.08564455154\n",
      "Iteration :  25 Likelihood:  45674.97036968956\n",
      "Iteration :  26 Likelihood:  45862.82234783916\n",
      "Iteration :  27 Likelihood:  45766.997005149184\n",
      "Iteration :  28 Likelihood:  45996.10281993178\n",
      "Iteration :  29 Likelihood:  46039.21649033947\n",
      "Iteration :  30 Likelihood:  46274.83521056095\n"
     ]
    },
    {
     "data": {
      "image/png": "[encoded data removed]",
      "text/plain": [
       "<Figure size 432x288 with 1 Axes>"
      ]
     },
     "metadata": {
      "needs_background": "light"
     },
     "output_type": "display_data"
    }
   ],
   "source": [
    "def gaussian(X, mu, sigma):\n",
    "    eig_vals, eig_vecs = np.linalg.eig(sigma)\n",
    "    eig_vecs = eig_vecs[:,np.argsort(-eig_vals)][:,:20]\n",
    "    eig_vals = eig_vals[np.argsort(-eig_vals)][:20]\n",
    "    X= X.dot(eig_vecs)\n",
    "    mu = eig_vecs.T.dot(mu)\n",
    "    sum_all = 0\n",
    "    for i in range(20):\n",
    "        c = X[:,i]-mu[i]\n",
    "        sum_all += c**2/eig_vals[i]\n",
    "    a = 1 / np.sqrt(sum(eig_vals)) * np.exp(-0.5*sum_all ).reshape(-1, 1)\n",
    "    return a.real\n",
    "\n",
    "def initial(X, n):\n",
    "    clusters = []    \n",
    "    for i in range(n):\n",
    "        clusters.append({'p': 1.0 / n, 'mu': np.random.normal(0, 0.1, 784),'sigma': np.identity(X.shape[1], dtype=np.float64)})\n",
    "    return clusters\n",
    "\n",
    "def expectation(X, clusters):\n",
    "    totals = np.zeros((X.shape[0], 1), dtype=np.float64)\n",
    "    for k in clusters:\n",
    "        pi_k = k['p']\n",
    "        mu_k = k['mu']\n",
    "        sigma_k = k['sigma']\n",
    "        gamma_nk = (pi_k * gaussian(X, mu_k, sigma_k)).astype(np.float64)\n",
    "        for i in range(X.shape[0]):\n",
    "            totals[i] += gamma_nk[i]\n",
    "        k['g_nk'] = gamma_nk\n",
    "        k['t'] = totals\n",
    "    for k in clusters:\n",
    "        k['g_nk'] /= k['t']\n",
    "        \n",
    "def maximization(X, clusters):\n",
    "    N = float(X.shape[0])\n",
    "    for k in clusters:\n",
    "        gamma_nk = k['g_nk']\n",
    "        sigma_k = np.zeros((X.shape[1], X.shape[1]))\n",
    "        N_k = np.sum(gamma_nk, axis=0)\n",
    "        pi_k = N_k / N\n",
    "        mu_k = np.sum(gamma_nk * X, axis=0) / N_k\n",
    "        for j in range(X.shape[0]):\n",
    "            diff = (X[j] - mu_k).reshape(-1, 1)\n",
    "            sigma_k += gamma_nk[j] * np.dot(diff, diff.T)\n",
    "        sigma_k /= N_k\n",
    "        # update the pi, mu and sigma\n",
    "        k['p'] = pi_k\n",
    "        k['mu'] = mu_k\n",
    "        k['sigma'] = sigma_k\n",
    "        \n",
    "def cal_likelihood(clusters):\n",
    "    likelihoods_samples = -np.log(np.array([k['t'] for k in clusters]))\n",
    "    return np.sum(likelihoods_samples)\n",
    "\n",
    "def gmm(X, n, iteration):\n",
    "    clusters = initial(X, n)\n",
    "    likelihoods = np.zeros((iteration, ))\n",
    "    for i in range(iteration):\n",
    "        clusters_snapshot = []\n",
    "        for k in clusters:\n",
    "            clusters_snapshot.append({\n",
    "                'mu': k['mu'].copy(),\n",
    "                'sigma': k['sigma'].copy()\n",
    "            })\n",
    "        expectation(X, clusters)\n",
    "        maximization(X, clusters)\n",
    "        likelihood = cal_likelihood(clusters)\n",
    "        likelihoods[i] = likelihood   \n",
    "        print('Iteration : ', i + 1, 'Likelihood: ', likelihood)\n",
    "    return clusters, likelihoods\n",
    "\n",
    "\n",
    "n = 2\n",
    "iteration = 30\n",
    "data = np.asarray(pd.read_csv(\"data.dat\", sep='\\s+',header=None)).T\n",
    "clusters, likelihoods = gmm(data, n, iteration)\n",
    "\n"
   ]
  },
  {
   "cell_type": "markdown",
   "metadata": {},
   "source": [
    "(c) (15 points points) Report, the \f",
    "tting GMM model when EM has terminated in your algorithms,\n",
    "including the weights for each component and the mean vectors (please reformat the vectors into\n",
    "28-by-28 images and show these images in your submission). Ideally, you should be able to see\n",
    "these means corresponds to \\average\" images. No need to report the covariance matrices."
   ]
  },
  {
   "cell_type": "code",
   "execution_count": 20,
   "metadata": {},
   "outputs": [
    {
     "name": "stdout",
     "output_type": "stream",
     "text": [
      "[0.51708543 0.48291457]\n"
     ]
    },
    {
     "data": {
      "text/plain": [
       "(-0.5, 27.5, 27.5, -0.5)"
      ]
     },
     "execution_count": 20,
     "metadata": {},
     "output_type": "execute_result"
    },
    {
     "data": {
      "image/png": "[encoded data removed]",
      "text/plain": [
       "<Figure size 432x288 with 2 Axes>"
      ]
     },
     "metadata": {
      "needs_background": "light"
     },
     "output_type": "display_data"
    }
   ],
   "source": [
    "gmm = GMM(n_components=2)\n",
    "gmm.fit(data.T)\n",
    "print (gmm.weights_)\n",
    "\n",
    "plt.subplot(1,2,1)\n",
    "data_2 = np.reshape(gmm.means_[0],(28,28),order='F')\n",
    "plt.title(\"Mean Image 2 Visualization\")\n",
    "plt.imshow(data_2,cmap=\"Greys_r\")\n",
    "plt.axis('off')\n",
    "\n",
    "plt.subplot(1,2,2)\n",
    "data_6 = np.reshape(gmm.means_[1],(28,28),order='F')\n",
    "plt.title(\"Mean Image 6 Visualization\")\n",
    "plt.imshow(data_6,cmap=\"Greys_r\")\n",
    "plt.axis('off')"
   ]
  }
 ],
 "metadata": {
  "kernelspec": {
   "display_name": "Python 3",
   "language": "python",
   "name": "python3"
  },
  "language_info": {
   "codemirror_mode": {
    "name": "ipython",
    "version": 3
   },
   "file_extension": ".py",
   "mimetype": "text/x-python",
   "name": "python",
   "nbconvert_exporter": "python",
   "pygments_lexer": "ipython3",
   "version": "3.8.3"
  }
 },
 "nbformat": 4,
 "nbformat_minor": 2
}
