{
 "cells": [
  {
   "cell_type": "markdown",
   "metadata": {},
   "source": [
    "# Importing Packages"
   ]
  },
  {
   "cell_type": "code",
   "execution_count": 1,
   "metadata": {},
   "outputs": [
    {
     "name": "stderr",
     "output_type": "stream",
     "text": [
      "C:\\Users\\Shrikanth\\Anaconda3\\lib\\site-packages\\statsmodels\\tools\\_testing.py:19: FutureWarning: pandas.util.testing is deprecated. Use the functions in the public API at pandas.testing instead.\n",
      "  import pandas.util.testing as tm\n"
     ]
    }
   ],
   "source": [
    "import fhirbase\n",
    "import psycopg2\n",
    "import pandas as pd\n",
    "import ast\n",
    "import json\n",
    "import numpy as np\n",
    "import time\n",
    "import seaborn as sns\n",
    "import matplotlib.pyplot as plt\n",
    "#import lux\n",
    "\n",
    "import warnings\n",
    "warnings.filterwarnings('ignore')\n",
    "\n",
    "start_time = time.time()"
   ]
  },
  {
   "cell_type": "markdown",
   "metadata": {},
   "source": [
    "# Data Management"
   ]
  },
  {
   "cell_type": "markdown",
   "metadata": {},
   "source": [
    "### Connecting to PostgreSQL"
   ]
  },
  {
   "cell_type": "code",
   "execution_count": 2,
   "metadata": {},
   "outputs": [
    {
     "name": "stdout",
     "output_type": "stream",
     "text": [
      "Connecting to Postgres database\n",
      "#\n",
      "#\n",
      "#\n",
      "Connection with Postgres established\n"
     ]
    }
   ],
   "source": [
    "print(\"Connecting to Postgres database\")\n",
    "##conn = psycopg2.connect(host=\"patientory.cnyrvm7s6vwa.us-east-1.rds.amazonaws.com\",database=\"fhirbase\",user=\"postgres\",password=\"i02D7Jj1mWiLfY2MNsya\")\n",
    "conn = psycopg2.connect(host=\"localhost\",database=\"fitness\",user=\"postgres\",password=\"postgres\")\n",
    "print(\"#\")\n",
    "print(\"#\")\n",
    "print(\"#\")\n",
    "print(\"Connection with Postgres established\")"
   ]
  },
  {
   "cell_type": "markdown",
   "metadata": {},
   "source": [
    "### Importing Fitness Table"
   ]
  },
  {
   "cell_type": "code",
   "execution_count": 3,
   "metadata": {},
   "outputs": [
    {
     "name": "stdout",
     "output_type": "stream",
     "text": [
      "Importing Patient Data\n",
      "#\n",
      "#\n",
      "#\n",
      "Imported data from patient table. Total 21168 records\n"
     ]
    },
    {
     "data": {
      "text/html": [
       "<div>\n",
       "<style scoped>\n",
       "    .dataframe tbody tr th:only-of-type {\n",
       "        vertical-align: middle;\n",
       "    }\n",
       "\n",
       "    .dataframe tbody tr th {\n",
       "        vertical-align: top;\n",
       "    }\n",
       "\n",
       "    .dataframe thead tr th {\n",
       "        text-align: left;\n",
       "    }\n",
       "</style>\n",
       "<table border=\"1\" class=\"dataframe\">\n",
       "  <thead>\n",
       "    <tr>\n",
       "      <th></th>\n",
       "      <th>type</th>\n",
       "      <th>unit</th>\n",
       "      <th>End_Date</th>\n",
       "      <th>value</th>\n",
       "    </tr>\n",
       "    <tr>\n",
       "      <th></th>\n",
       "      <th></th>\n",
       "      <th></th>\n",
       "      <th></th>\n",
       "      <th>mean</th>\n",
       "    </tr>\n",
       "  </thead>\n",
       "  <tbody>\n",
       "    <tr>\n",
       "      <th>0</th>\n",
       "      <td>ActiveEnergyBurned</td>\n",
       "      <td>kcal</td>\n",
       "      <td>2021-01-29</td>\n",
       "      <td>16.0</td>\n",
       "    </tr>\n",
       "    <tr>\n",
       "      <th>1</th>\n",
       "      <td>ActiveEnergyBurned</td>\n",
       "      <td>kcal</td>\n",
       "      <td>2021-01-30</td>\n",
       "      <td>25.5</td>\n",
       "    </tr>\n",
       "    <tr>\n",
       "      <th>2</th>\n",
       "      <td>ActiveEnergyBurned</td>\n",
       "      <td>kcal</td>\n",
       "      <td>2021-01-31</td>\n",
       "      <td>38.0</td>\n",
       "    </tr>\n",
       "    <tr>\n",
       "      <th>3</th>\n",
       "      <td>ActiveEnergyBurned</td>\n",
       "      <td>kcal</td>\n",
       "      <td>2021-02-01</td>\n",
       "      <td>33.0</td>\n",
       "    </tr>\n",
       "    <tr>\n",
       "      <th>4</th>\n",
       "      <td>ActiveEnergyBurned</td>\n",
       "      <td>kcal</td>\n",
       "      <td>2021-02-02</td>\n",
       "      <td>27.0</td>\n",
       "    </tr>\n",
       "  </tbody>\n",
       "</table>\n",
       "</div>"
      ],
      "text/plain": [
       "                 type  unit    End_Date value\n",
       "                                         mean\n",
       "0  ActiveEnergyBurned  kcal  2021-01-29  16.0\n",
       "1  ActiveEnergyBurned  kcal  2021-01-30  25.5\n",
       "2  ActiveEnergyBurned  kcal  2021-01-31  38.0\n",
       "3  ActiveEnergyBurned  kcal  2021-02-01  33.0\n",
       "4  ActiveEnergyBurned  kcal  2021-02-02  27.0"
      ]
     },
     "execution_count": 3,
     "metadata": {},
     "output_type": "execute_result"
    }
   ],
   "source": [
    "print(\"Importing Patient Data\")\n",
    "\n",
    "fitness = pd.read_sql_query('''select * from fitness''',conn)\n",
    "prefix = 'HKQuantityTypeIdentifier'\n",
    "len_prefix = len(prefix)\n",
    "fitness['type'] = fitness['type'].apply(lambda x: x[len_prefix:])\n",
    "fitness['End_Date'] = fitness['endDate'].apply(lambda x: x[:10])\n",
    "grouped_fitness = fitness.groupby(['type', 'unit','End_Date']).agg({'value': ['mean']})\n",
    "grouped_fitness = grouped_fitness.reset_index()\n",
    "\n",
    "print('#')\n",
    "print(\"#\")\n",
    "print(\"#\")\n",
    "print(\"Imported data from patient table. Total {} records\".format(len(fitness)))\n",
    "grouped_fitness.head(5)"
   ]
  },
  {
   "cell_type": "markdown",
   "metadata": {},
   "source": [
    "### Importing Fitness CDA Table"
   ]
  },
  {
   "cell_type": "code",
   "execution_count": 4,
   "metadata": {},
   "outputs": [
    {
     "name": "stdout",
     "output_type": "stream",
     "text": [
      "Importing Patient Data\n",
      "#\n",
      "#\n",
      "#\n",
      "Imported data from patient table. Total 4100 records\n"
     ]
    },
    {
     "data": {
      "text/html": [
       "<div>\n",
       "<style scoped>\n",
       "    .dataframe tbody tr th:only-of-type {\n",
       "        vertical-align: middle;\n",
       "    }\n",
       "\n",
       "    .dataframe tbody tr th {\n",
       "        vertical-align: top;\n",
       "    }\n",
       "\n",
       "    .dataframe thead th {\n",
       "        text-align: right;\n",
       "    }\n",
       "</style>\n",
       "<table border=\"1\" class=\"dataframe\">\n",
       "  <thead>\n",
       "    <tr style=\"text-align: right;\">\n",
       "      <th></th>\n",
       "      <th>code</th>\n",
       "      <th>root</th>\n",
       "      <th>extension</th>\n",
       "      <th>root2</th>\n",
       "      <th>extension3</th>\n",
       "      <th>root4</th>\n",
       "      <th>codeSystem</th>\n",
       "      <th>codeSystemName</th>\n",
       "      <th>code5</th>\n",
       "      <th>displayName</th>\n",
       "      <th>...</th>\n",
       "      <th>ns1:unit</th>\n",
       "      <th>code31</th>\n",
       "      <th>value32</th>\n",
       "      <th>value33</th>\n",
       "      <th>value34</th>\n",
       "      <th>unit</th>\n",
       "      <th>code35</th>\n",
       "      <th>codeSystem36</th>\n",
       "      <th>value37</th>\n",
       "      <th>value38</th>\n",
       "    </tr>\n",
       "  </thead>\n",
       "  <tbody>\n",
       "    <tr>\n",
       "      <th>0</th>\n",
       "      <td>US</td>\n",
       "      <td>2.16.840.1.113883.1.3</td>\n",
       "      <td>POCD_HD000040</td>\n",
       "      <td>2.16.840.1.113883.10.20.22.1.2</td>\n",
       "      <td>Health Export CDA</td>\n",
       "      <td>1.1.1.1.1.1.1.1.1</td>\n",
       "      <td>2.16.840.1.113883.6.1</td>\n",
       "      <td>LOINC</td>\n",
       "      <td>34109-9</td>\n",
       "      <td>Note</td>\n",
       "      <td>...</td>\n",
       "      <td>mg/dL</td>\n",
       "      <td>completed</td>\n",
       "      <td>20210129182636+0530</td>\n",
       "      <td>20210129182636+0530</td>\n",
       "      <td>8600.0</td>\n",
       "      <td>mg/dL</td>\n",
       "      <td>N</td>\n",
       "      <td>2.16.840.1.113883.5.83</td>\n",
       "      <td>None</td>\n",
       "      <td>None</td>\n",
       "    </tr>\n",
       "    <tr>\n",
       "      <th>1</th>\n",
       "      <td>US</td>\n",
       "      <td>2.16.840.1.113883.1.3</td>\n",
       "      <td>POCD_HD000040</td>\n",
       "      <td>2.16.840.1.113883.10.20.22.1.2</td>\n",
       "      <td>Health Export CDA</td>\n",
       "      <td>1.1.1.1.1.1.1.1.1</td>\n",
       "      <td>2.16.840.1.113883.6.1</td>\n",
       "      <td>LOINC</td>\n",
       "      <td>34109-9</td>\n",
       "      <td>Note</td>\n",
       "      <td>...</td>\n",
       "      <td>mg/dL</td>\n",
       "      <td>completed</td>\n",
       "      <td>20210130182636+0530</td>\n",
       "      <td>20210130182636+0530</td>\n",
       "      <td>5500.0</td>\n",
       "      <td>mg/dL</td>\n",
       "      <td>N</td>\n",
       "      <td>2.16.840.1.113883.5.83</td>\n",
       "      <td>None</td>\n",
       "      <td>None</td>\n",
       "    </tr>\n",
       "    <tr>\n",
       "      <th>2</th>\n",
       "      <td>US</td>\n",
       "      <td>2.16.840.1.113883.1.3</td>\n",
       "      <td>POCD_HD000040</td>\n",
       "      <td>2.16.840.1.113883.10.20.22.1.2</td>\n",
       "      <td>Health Export CDA</td>\n",
       "      <td>1.1.1.1.1.1.1.1.1</td>\n",
       "      <td>2.16.840.1.113883.6.1</td>\n",
       "      <td>LOINC</td>\n",
       "      <td>34109-9</td>\n",
       "      <td>Note</td>\n",
       "      <td>...</td>\n",
       "      <td>mg/dL</td>\n",
       "      <td>completed</td>\n",
       "      <td>20210131182636+0530</td>\n",
       "      <td>20210131182636+0530</td>\n",
       "      <td>300.0</td>\n",
       "      <td>mg/dL</td>\n",
       "      <td>N</td>\n",
       "      <td>2.16.840.1.113883.5.83</td>\n",
       "      <td>None</td>\n",
       "      <td>None</td>\n",
       "    </tr>\n",
       "    <tr>\n",
       "      <th>3</th>\n",
       "      <td>US</td>\n",
       "      <td>2.16.840.1.113883.1.3</td>\n",
       "      <td>POCD_HD000040</td>\n",
       "      <td>2.16.840.1.113883.10.20.22.1.2</td>\n",
       "      <td>Health Export CDA</td>\n",
       "      <td>1.1.1.1.1.1.1.1.1</td>\n",
       "      <td>2.16.840.1.113883.6.1</td>\n",
       "      <td>LOINC</td>\n",
       "      <td>34109-9</td>\n",
       "      <td>Note</td>\n",
       "      <td>...</td>\n",
       "      <td>mg/dL</td>\n",
       "      <td>completed</td>\n",
       "      <td>20210201182636+0530</td>\n",
       "      <td>20210201182636+0530</td>\n",
       "      <td>3900.0</td>\n",
       "      <td>mg/dL</td>\n",
       "      <td>N</td>\n",
       "      <td>2.16.840.1.113883.5.83</td>\n",
       "      <td>None</td>\n",
       "      <td>None</td>\n",
       "    </tr>\n",
       "    <tr>\n",
       "      <th>4</th>\n",
       "      <td>US</td>\n",
       "      <td>2.16.840.1.113883.1.3</td>\n",
       "      <td>POCD_HD000040</td>\n",
       "      <td>2.16.840.1.113883.10.20.22.1.2</td>\n",
       "      <td>Health Export CDA</td>\n",
       "      <td>1.1.1.1.1.1.1.1.1</td>\n",
       "      <td>2.16.840.1.113883.6.1</td>\n",
       "      <td>LOINC</td>\n",
       "      <td>34109-9</td>\n",
       "      <td>Note</td>\n",
       "      <td>...</td>\n",
       "      <td>mg/dL</td>\n",
       "      <td>completed</td>\n",
       "      <td>20210202182636+0530</td>\n",
       "      <td>20210202182636+0530</td>\n",
       "      <td>4300.0</td>\n",
       "      <td>mg/dL</td>\n",
       "      <td>N</td>\n",
       "      <td>2.16.840.1.113883.5.83</td>\n",
       "      <td>None</td>\n",
       "      <td>None</td>\n",
       "    </tr>\n",
       "  </tbody>\n",
       "</table>\n",
       "<p>5 rows × 56 columns</p>\n",
       "</div>"
      ],
      "text/plain": [
       "  code                   root      extension                           root2  \\\n",
       "0   US  2.16.840.1.113883.1.3  POCD_HD000040  2.16.840.1.113883.10.20.22.1.2   \n",
       "1   US  2.16.840.1.113883.1.3  POCD_HD000040  2.16.840.1.113883.10.20.22.1.2   \n",
       "2   US  2.16.840.1.113883.1.3  POCD_HD000040  2.16.840.1.113883.10.20.22.1.2   \n",
       "3   US  2.16.840.1.113883.1.3  POCD_HD000040  2.16.840.1.113883.10.20.22.1.2   \n",
       "4   US  2.16.840.1.113883.1.3  POCD_HD000040  2.16.840.1.113883.10.20.22.1.2   \n",
       "\n",
       "          extension3              root4             codeSystem codeSystemName  \\\n",
       "0  Health Export CDA  1.1.1.1.1.1.1.1.1  2.16.840.1.113883.6.1          LOINC   \n",
       "1  Health Export CDA  1.1.1.1.1.1.1.1.1  2.16.840.1.113883.6.1          LOINC   \n",
       "2  Health Export CDA  1.1.1.1.1.1.1.1.1  2.16.840.1.113883.6.1          LOINC   \n",
       "3  Health Export CDA  1.1.1.1.1.1.1.1.1  2.16.840.1.113883.6.1          LOINC   \n",
       "4  Health Export CDA  1.1.1.1.1.1.1.1.1  2.16.840.1.113883.6.1          LOINC   \n",
       "\n",
       "     code5 displayName  ... ns1:unit     code31              value32  \\\n",
       "0  34109-9        Note  ...    mg/dL  completed  20210129182636+0530   \n",
       "1  34109-9        Note  ...    mg/dL  completed  20210130182636+0530   \n",
       "2  34109-9        Note  ...    mg/dL  completed  20210131182636+0530   \n",
       "3  34109-9        Note  ...    mg/dL  completed  20210201182636+0530   \n",
       "4  34109-9        Note  ...    mg/dL  completed  20210202182636+0530   \n",
       "\n",
       "               value33 value34   unit code35            codeSystem36 value37  \\\n",
       "0  20210129182636+0530  8600.0  mg/dL      N  2.16.840.1.113883.5.83    None   \n",
       "1  20210130182636+0530  5500.0  mg/dL      N  2.16.840.1.113883.5.83    None   \n",
       "2  20210131182636+0530   300.0  mg/dL      N  2.16.840.1.113883.5.83    None   \n",
       "3  20210201182636+0530  3900.0  mg/dL      N  2.16.840.1.113883.5.83    None   \n",
       "4  20210202182636+0530  4300.0  mg/dL      N  2.16.840.1.113883.5.83    None   \n",
       "\n",
       "  value38  \n",
       "0    None  \n",
       "1    None  \n",
       "2    None  \n",
       "3    None  \n",
       "4    None  \n",
       "\n",
       "[5 rows x 56 columns]"
      ]
     },
     "execution_count": 4,
     "metadata": {},
     "output_type": "execute_result"
    }
   ],
   "source": [
    "print(\"Importing Patient Data\")\n",
    "\n",
    "fitnessCDA = pd.read_sql_query('''select * from fitness_cda''',conn)\n",
    "\n",
    "\n",
    "print('#')\n",
    "print(\"#\")\n",
    "print(\"#\")\n",
    "print(\"Imported data from patient table. Total {} records\".format(len(fitnessCDA)))\n",
    "fitnessCDA.head(5)"
   ]
  },
  {
   "cell_type": "markdown",
   "metadata": {},
   "source": [
    "### Exporting to Excel"
   ]
  },
  {
   "cell_type": "code",
   "execution_count": 5,
   "metadata": {},
   "outputs": [
    {
     "name": "stdout",
     "output_type": "stream",
     "text": [
      "Exported fitness Data\n",
      "Exported fitnessCDA Data\n"
     ]
    }
   ],
   "source": [
    "##fitness\n",
    "fitness.to_excel('fitness.xlsx',index = False)\n",
    "grouped_fitness.to_excel('grouped_fitness.xlsx')\n",
    "print('Exported fitness Data')\n",
    "\n",
    "##fitnessCDA\n",
    "fitnessCDA.to_excel('fitnessCDA.xlsx',index = False)\n",
    "print('Exported fitnessCDA Data')\n"
   ]
  },
  {
   "cell_type": "markdown",
   "metadata": {},
   "source": [
    "# Time Management"
   ]
  },
  {
   "cell_type": "code",
   "execution_count": 6,
   "metadata": {},
   "outputs": [
    {
     "name": "stdout",
     "output_type": "stream",
     "text": [
      "Time taken to run this code 0.13018521070480346 mins\n"
     ]
    }
   ],
   "source": [
    "elapsed_time = (time.time() - start_time)/60\n",
    "print('Time taken to run this code {} mins'.format(elapsed_time))"
   ]
  }
 ],
 "metadata": {
  "kernelspec": {
   "display_name": "Python 3",
   "language": "python",
   "name": "python3"
  },
  "language_info": {
   "codemirror_mode": {
    "name": "ipython",
    "version": 3
   },
   "file_extension": ".py",
   "mimetype": "text/x-python",
   "name": "python",
   "nbconvert_exporter": "python",
   "pygments_lexer": "ipython3",
   "version": "3.7.3"
  }
 },
 "nbformat": 4,
 "nbformat_minor": 2
}
