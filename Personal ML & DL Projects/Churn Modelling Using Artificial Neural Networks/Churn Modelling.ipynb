{
 "cells": [
  {
   "cell_type": "markdown",
   "metadata": {},
   "source": [
    "### Importing Necessary Packages"
   ]
  },
  {
   "cell_type": "code",
   "execution_count": 1,
   "metadata": {},
   "outputs": [],
   "source": [
    "import pandas as pd\n",
    "import numpy as np\n",
    "import seaborn as sns\n",
    "from matplotlib import pyplot as plt\n",
    "\n",
    "from sklearn.model_selection import train_test_split\n",
    "from sklearn.preprocessing import StandardScaler\n",
    "from sklearn.metrics import confusion_matrix\n",
    "from sklearn.metrics import accuracy_score\n",
    "from sklearn.metrics import classification_report\n",
    "\n",
    "import keras\n",
    "from keras.models import Sequential\n",
    "from keras.layers import Dense\n",
    "from keras.layers import LeakyReLU,PReLU,ELU\n",
    "from keras.layers import Dropout"
   ]
  },
  {
   "cell_type": "markdown",
   "metadata": {},
   "source": [
    "### Importing Data"
   ]
  },
  {
   "cell_type": "code",
   "execution_count": 2,
   "metadata": {},
   "outputs": [],
   "source": [
    "data = pd.read_csv(\"Churn_Modelling.csv\")"
   ]
  },
  {
   "cell_type": "code",
   "execution_count": 3,
   "metadata": {},
   "outputs": [
    {
     "data": {
      "text/html": [
       "<div>\n",
       "<style scoped>\n",
       "    .dataframe tbody tr th:only-of-type {\n",
       "        vertical-align: middle;\n",
       "    }\n",
       "\n",
       "    .dataframe tbody tr th {\n",
       "        vertical-align: top;\n",
       "    }\n",
       "\n",
       "    .dataframe thead th {\n",
       "        text-align: right;\n",
       "    }\n",
       "</style>\n",
       "<table border=\"1\" class=\"dataframe\">\n",
       "  <thead>\n",
       "    <tr style=\"text-align: right;\">\n",
       "      <th></th>\n",
       "      <th>RowNumber</th>\n",
       "      <th>CustomerId</th>\n",
       "      <th>Surname</th>\n",
       "      <th>CreditScore</th>\n",
       "      <th>Geography</th>\n",
       "      <th>Gender</th>\n",
       "      <th>Age</th>\n",
       "      <th>Tenure</th>\n",
       "      <th>Balance</th>\n",
       "      <th>NumOfProducts</th>\n",
       "      <th>HasCrCard</th>\n",
       "      <th>IsActiveMember</th>\n",
       "      <th>EstimatedSalary</th>\n",
       "      <th>Exited</th>\n",
       "    </tr>\n",
       "  </thead>\n",
       "  <tbody>\n",
       "    <tr>\n",
       "      <th>0</th>\n",
       "      <td>1</td>\n",
       "      <td>15634602</td>\n",
       "      <td>Hargrave</td>\n",
       "      <td>619</td>\n",
       "      <td>France</td>\n",
       "      <td>Female</td>\n",
       "      <td>42</td>\n",
       "      <td>2</td>\n",
       "      <td>0.00</td>\n",
       "      <td>1</td>\n",
       "      <td>1</td>\n",
       "      <td>1</td>\n",
       "      <td>101348.88</td>\n",
       "      <td>1</td>\n",
       "    </tr>\n",
       "    <tr>\n",
       "      <th>1</th>\n",
       "      <td>2</td>\n",
       "      <td>15647311</td>\n",
       "      <td>Hill</td>\n",
       "      <td>608</td>\n",
       "      <td>Spain</td>\n",
       "      <td>Female</td>\n",
       "      <td>41</td>\n",
       "      <td>1</td>\n",
       "      <td>83807.86</td>\n",
       "      <td>1</td>\n",
       "      <td>0</td>\n",
       "      <td>1</td>\n",
       "      <td>112542.58</td>\n",
       "      <td>0</td>\n",
       "    </tr>\n",
       "    <tr>\n",
       "      <th>2</th>\n",
       "      <td>3</td>\n",
       "      <td>15619304</td>\n",
       "      <td>Onio</td>\n",
       "      <td>502</td>\n",
       "      <td>France</td>\n",
       "      <td>Female</td>\n",
       "      <td>42</td>\n",
       "      <td>8</td>\n",
       "      <td>159660.80</td>\n",
       "      <td>3</td>\n",
       "      <td>1</td>\n",
       "      <td>0</td>\n",
       "      <td>113931.57</td>\n",
       "      <td>1</td>\n",
       "    </tr>\n",
       "    <tr>\n",
       "      <th>3</th>\n",
       "      <td>4</td>\n",
       "      <td>15701354</td>\n",
       "      <td>Boni</td>\n",
       "      <td>699</td>\n",
       "      <td>France</td>\n",
       "      <td>Female</td>\n",
       "      <td>39</td>\n",
       "      <td>1</td>\n",
       "      <td>0.00</td>\n",
       "      <td>2</td>\n",
       "      <td>0</td>\n",
       "      <td>0</td>\n",
       "      <td>93826.63</td>\n",
       "      <td>0</td>\n",
       "    </tr>\n",
       "    <tr>\n",
       "      <th>4</th>\n",
       "      <td>5</td>\n",
       "      <td>15737888</td>\n",
       "      <td>Mitchell</td>\n",
       "      <td>850</td>\n",
       "      <td>Spain</td>\n",
       "      <td>Female</td>\n",
       "      <td>43</td>\n",
       "      <td>2</td>\n",
       "      <td>125510.82</td>\n",
       "      <td>1</td>\n",
       "      <td>1</td>\n",
       "      <td>1</td>\n",
       "      <td>79084.10</td>\n",
       "      <td>0</td>\n",
       "    </tr>\n",
       "    <tr>\n",
       "      <th>...</th>\n",
       "      <td>...</td>\n",
       "      <td>...</td>\n",
       "      <td>...</td>\n",
       "      <td>...</td>\n",
       "      <td>...</td>\n",
       "      <td>...</td>\n",
       "      <td>...</td>\n",
       "      <td>...</td>\n",
       "      <td>...</td>\n",
       "      <td>...</td>\n",
       "      <td>...</td>\n",
       "      <td>...</td>\n",
       "      <td>...</td>\n",
       "      <td>...</td>\n",
       "    </tr>\n",
       "    <tr>\n",
       "      <th>9995</th>\n",
       "      <td>9996</td>\n",
       "      <td>15606229</td>\n",
       "      <td>Obijiaku</td>\n",
       "      <td>771</td>\n",
       "      <td>France</td>\n",
       "      <td>Male</td>\n",
       "      <td>39</td>\n",
       "      <td>5</td>\n",
       "      <td>0.00</td>\n",
       "      <td>2</td>\n",
       "      <td>1</td>\n",
       "      <td>0</td>\n",
       "      <td>96270.64</td>\n",
       "      <td>0</td>\n",
       "    </tr>\n",
       "    <tr>\n",
       "      <th>9996</th>\n",
       "      <td>9997</td>\n",
       "      <td>15569892</td>\n",
       "      <td>Johnstone</td>\n",
       "      <td>516</td>\n",
       "      <td>France</td>\n",
       "      <td>Male</td>\n",
       "      <td>35</td>\n",
       "      <td>10</td>\n",
       "      <td>57369.61</td>\n",
       "      <td>1</td>\n",
       "      <td>1</td>\n",
       "      <td>1</td>\n",
       "      <td>101699.77</td>\n",
       "      <td>0</td>\n",
       "    </tr>\n",
       "    <tr>\n",
       "      <th>9997</th>\n",
       "      <td>9998</td>\n",
       "      <td>15584532</td>\n",
       "      <td>Liu</td>\n",
       "      <td>709</td>\n",
       "      <td>France</td>\n",
       "      <td>Female</td>\n",
       "      <td>36</td>\n",
       "      <td>7</td>\n",
       "      <td>0.00</td>\n",
       "      <td>1</td>\n",
       "      <td>0</td>\n",
       "      <td>1</td>\n",
       "      <td>42085.58</td>\n",
       "      <td>1</td>\n",
       "    </tr>\n",
       "    <tr>\n",
       "      <th>9998</th>\n",
       "      <td>9999</td>\n",
       "      <td>15682355</td>\n",
       "      <td>Sabbatini</td>\n",
       "      <td>772</td>\n",
       "      <td>Germany</td>\n",
       "      <td>Male</td>\n",
       "      <td>42</td>\n",
       "      <td>3</td>\n",
       "      <td>75075.31</td>\n",
       "      <td>2</td>\n",
       "      <td>1</td>\n",
       "      <td>0</td>\n",
       "      <td>92888.52</td>\n",
       "      <td>1</td>\n",
       "    </tr>\n",
       "    <tr>\n",
       "      <th>9999</th>\n",
       "      <td>10000</td>\n",
       "      <td>15628319</td>\n",
       "      <td>Walker</td>\n",
       "      <td>792</td>\n",
       "      <td>France</td>\n",
       "      <td>Female</td>\n",
       "      <td>28</td>\n",
       "      <td>4</td>\n",
       "      <td>130142.79</td>\n",
       "      <td>1</td>\n",
       "      <td>1</td>\n",
       "      <td>0</td>\n",
       "      <td>38190.78</td>\n",
       "      <td>0</td>\n",
       "    </tr>\n",
       "  </tbody>\n",
       "</table>\n",
       "<p>10000 rows × 14 columns</p>\n",
       "</div>"
      ],
      "text/plain": [
       "      RowNumber  CustomerId    Surname  CreditScore Geography  Gender  Age  \\\n",
       "0             1    15634602   Hargrave          619    France  Female   42   \n",
       "1             2    15647311       Hill          608     Spain  Female   41   \n",
       "2             3    15619304       Onio          502    France  Female   42   \n",
       "3             4    15701354       Boni          699    France  Female   39   \n",
       "4             5    15737888   Mitchell          850     Spain  Female   43   \n",
       "...         ...         ...        ...          ...       ...     ...  ...   \n",
       "9995       9996    15606229   Obijiaku          771    France    Male   39   \n",
       "9996       9997    15569892  Johnstone          516    France    Male   35   \n",
       "9997       9998    15584532        Liu          709    France  Female   36   \n",
       "9998       9999    15682355  Sabbatini          772   Germany    Male   42   \n",
       "9999      10000    15628319     Walker          792    France  Female   28   \n",
       "\n",
       "      Tenure    Balance  NumOfProducts  HasCrCard  IsActiveMember  \\\n",
       "0          2       0.00              1          1               1   \n",
       "1          1   83807.86              1          0               1   \n",
       "2          8  159660.80              3          1               0   \n",
       "3          1       0.00              2          0               0   \n",
       "4          2  125510.82              1          1               1   \n",
       "...      ...        ...            ...        ...             ...   \n",
       "9995       5       0.00              2          1               0   \n",
       "9996      10   57369.61              1          1               1   \n",
       "9997       7       0.00              1          0               1   \n",
       "9998       3   75075.31              2          1               0   \n",
       "9999       4  130142.79              1          1               0   \n",
       "\n",
       "      EstimatedSalary  Exited  \n",
       "0           101348.88       1  \n",
       "1           112542.58       0  \n",
       "2           113931.57       1  \n",
       "3            93826.63       0  \n",
       "4            79084.10       0  \n",
       "...               ...     ...  \n",
       "9995         96270.64       0  \n",
       "9996        101699.77       0  \n",
       "9997         42085.58       1  \n",
       "9998         92888.52       1  \n",
       "9999         38190.78       0  \n",
       "\n",
       "[10000 rows x 14 columns]"
      ]
     },
     "execution_count": 3,
     "metadata": {},
     "output_type": "execute_result"
    }
   ],
   "source": [
    "data"
   ]
  },
  {
   "cell_type": "markdown",
   "metadata": {},
   "source": [
    "### Feature Engineering"
   ]
  },
  {
   "cell_type": "code",
   "execution_count": 4,
   "metadata": {},
   "outputs": [
    {
     "data": {
      "text/plain": [
       "RowNumber          0\n",
       "CustomerId         0\n",
       "Surname            0\n",
       "CreditScore        0\n",
       "Geography          0\n",
       "Gender             0\n",
       "Age                0\n",
       "Tenure             0\n",
       "Balance            0\n",
       "NumOfProducts      0\n",
       "HasCrCard          0\n",
       "IsActiveMember     0\n",
       "EstimatedSalary    0\n",
       "Exited             0\n",
       "dtype: int64"
      ]
     },
     "execution_count": 4,
     "metadata": {},
     "output_type": "execute_result"
    }
   ],
   "source": [
    "data.isnull().sum()"
   ]
  },
  {
   "cell_type": "code",
   "execution_count": 5,
   "metadata": {},
   "outputs": [
    {
     "name": "stderr",
     "output_type": "stream",
     "text": [
      "C:\\Users\\D100793\\AppData\\Roaming\\Python\\Python38\\site-packages\\seaborn\\distributions.py:2619: FutureWarning: `distplot` is a deprecated function and will be removed in a future version. Please adapt your code to use either `displot` (a figure-level function with similar flexibility) or `histplot` (an axes-level function for histograms).\n",
      "  warnings.warn(msg, FutureWarning)\n"
     ]
    },
    {
     "data": {
      "text/plain": [
       "<matplotlib.axes._subplots.AxesSubplot at 0x18ccbd054f0>"
      ]
     },
     "execution_count": 5,
     "metadata": {},
     "output_type": "execute_result"
    },
    {
     "data": {
      "image/png": "[encoded data removed]",
      "text/plain": [
       "<Figure size 432x288 with 1 Axes>"
      ]
     },
     "metadata": {
      "needs_background": "light"
     },
     "output_type": "display_data"
    }
   ],
   "source": [
    "sns.distplot(data['EstimatedSalary'])"
   ]
  },
  {
   "cell_type": "code",
   "execution_count": 6,
   "metadata": {},
   "outputs": [
    {
     "name": "stdout",
     "output_type": "stream",
     "text": [
      "Customers with Zero Balance 3617 :\n",
      "\n",
      "\n",
      "\n",
      "For population where Balance is not equal to zero, stats are given below\n"
     ]
    },
    {
     "name": "stderr",
     "output_type": "stream",
     "text": [
      "C:\\Users\\D100793\\AppData\\Roaming\\Python\\Python38\\site-packages\\seaborn\\distributions.py:2619: FutureWarning: `distplot` is a deprecated function and will be removed in a future version. Please adapt your code to use either `displot` (a figure-level function with similar flexibility) or `histplot` (an axes-level function for histograms).\n",
      "  warnings.warn(msg, FutureWarning)\n"
     ]
    },
    {
     "data": {
      "text/plain": [
       "count      6383.000000\n",
       "mean     119827.493793\n",
       "std       30095.056462\n",
       "min        3768.690000\n",
       "25%      100181.975000\n",
       "50%      119839.690000\n",
       "75%      139512.290000\n",
       "max      250898.090000\n",
       "Name: Balance, dtype: float64"
      ]
     },
     "execution_count": 6,
     "metadata": {},
     "output_type": "execute_result"
    },
    {
     "data": {
      "image/png": "[encoded data removed]",
      "text/plain": [
       "<Figure size 432x288 with 1 Axes>"
      ]
     },
     "metadata": {
      "needs_background": "light"
     },
     "output_type": "display_data"
    }
   ],
   "source": [
    "sns.distplot(data['Balance'])\n",
    "print('Customers with Zero Balance {} :'.format(data.loc[data['Balance']== 0,'Balance'].count()))\n",
    "\n",
    "print(\"\")\n",
    "print(\"\")\n",
    "print(\"\")\n",
    "print(\"For population where Balance is not equal to zero, stats are given below\")\n",
    "data.loc[data['Balance'] != 0,'Balance'].describe()"
   ]
  },
  {
   "cell_type": "markdown",
   "metadata": {},
   "source": [
    "Here we observe that we we have around 3617 out of 10000 customers who have zero balance in the bank account where as other customers  who donot have a zero balance have a mean of 119,827 and a StDev of 30095 which is a big deviation from zero.\n",
    "\n",
    "We should not consider  the zero balance as outliers as they are these customers are highly likely to leave the bank. So we will be breaking this dataset into two part one with zero balance and other without and running separate models on them using ANN."
   ]
  },
  {
   "cell_type": "code",
   "execution_count": 7,
   "metadata": {},
   "outputs": [
    {
     "name": "stderr",
     "output_type": "stream",
     "text": [
      "C:\\Users\\D100793\\AppData\\Roaming\\Python\\Python38\\site-packages\\seaborn\\distributions.py:2619: FutureWarning: `distplot` is a deprecated function and will be removed in a future version. Please adapt your code to use either `displot` (a figure-level function with similar flexibility) or `histplot` (an axes-level function for histograms).\n",
      "  warnings.warn(msg, FutureWarning)\n"
     ]
    },
    {
     "data": {
      "text/plain": [
       "<matplotlib.axes._subplots.AxesSubplot at 0x18ccbf3a3a0>"
      ]
     },
     "execution_count": 7,
     "metadata": {},
     "output_type": "execute_result"
    },
    {
     "data": {
      "image/png": "[encoded data removed]",
      "text/plain": [
       "<Figure size 432x288 with 1 Axes>"
      ]
     },
     "metadata": {
      "needs_background": "light"
     },
     "output_type": "display_data"
    }
   ],
   "source": [
    "sns.distplot(data['Age'])"
   ]
  },
  {
   "cell_type": "code",
   "execution_count": 33,
   "metadata": {},
   "outputs": [
    {
     "name": "stdout",
     "output_type": "stream",
     "text": [
      "8.005276661986375\n",
      "70.38521935511378\n",
      "38.862823417423016\n"
     ]
    },
    {
     "data": {
      "text/plain": [
       "(None, None, None)"
      ]
     },
     "execution_count": 33,
     "metadata": {},
     "output_type": "execute_result"
    }
   ],
   "source": [
    "upper_boundary=data['Age'].mean() + 3* data['Age'].std()\n",
    "lower_boundary=data['Age'].mean() - 3* data['Age'].std()\n",
    "print(lower_boundary), print(uppper_boundary),print(data['Age'].mean())"
   ]
  },
  {
   "cell_type": "code",
   "execution_count": 9,
   "metadata": {},
   "outputs": [
    {
     "data": {
      "text/plain": [
       "Text(0, 0.5, 'No of Customers')"
      ]
     },
     "execution_count": 9,
     "metadata": {},
     "output_type": "execute_result"
    },
    {
     "data": {
      "image/png": "[encoded data removed]",
      "text/plain": [
       "<Figure size 432x288 with 1 Axes>"
      ]
     },
     "metadata": {
      "needs_background": "light"
     },
     "output_type": "display_data"
    }
   ],
   "source": [
    "figure=data.Age.hist(bins=50)\n",
    "figure.set_title('Age')\n",
    "figure.set_xlabel('Age')\n",
    "figure.set_ylabel('No of Customers')"
   ]
  },
  {
   "cell_type": "markdown",
   "metadata": {},
   "source": [
    "Since Age appears to be highly skewed to the right, we will replace all the age greater that 3 Standard Deviation of age by 3*Standard Deviation"
   ]
  },
  {
   "cell_type": "code",
   "execution_count": 10,
   "metadata": {},
   "outputs": [],
   "source": [
    "data.loc[data['Age']>=uppper_boundary,'Age']=upper_boundary"
   ]
  },
  {
   "cell_type": "code",
   "execution_count": 11,
   "metadata": {},
   "outputs": [
    {
     "name": "stderr",
     "output_type": "stream",
     "text": [
      "C:\\Users\\D100793\\AppData\\Roaming\\Python\\Python38\\site-packages\\seaborn\\distributions.py:2619: FutureWarning: `distplot` is a deprecated function and will be removed in a future version. Please adapt your code to use either `displot` (a figure-level function with similar flexibility) or `histplot` (an axes-level function for histograms).\n",
      "  warnings.warn(msg, FutureWarning)\n"
     ]
    },
    {
     "data": {
      "text/plain": [
       "<matplotlib.axes._subplots.AxesSubplot at 0x18ccc16f0d0>"
      ]
     },
     "execution_count": 11,
     "metadata": {},
     "output_type": "execute_result"
    },
    {
     "data": {
      "image/png": "[encoded data removed]",
      "text/plain": [
       "<Figure size 432x288 with 1 Axes>"
      ]
     },
     "metadata": {
      "needs_background": "light"
     },
     "output_type": "display_data"
    }
   ],
   "source": [
    "sns.distplot(data['Age'])"
   ]
  },
  {
   "cell_type": "code",
   "execution_count": 12,
   "metadata": {},
   "outputs": [
    {
     "name": "stderr",
     "output_type": "stream",
     "text": [
      "C:\\Users\\D100793\\AppData\\Roaming\\Python\\Python38\\site-packages\\seaborn\\distributions.py:2619: FutureWarning: `distplot` is a deprecated function and will be removed in a future version. Please adapt your code to use either `displot` (a figure-level function with similar flexibility) or `histplot` (an axes-level function for histograms).\n",
      "  warnings.warn(msg, FutureWarning)\n"
     ]
    },
    {
     "data": {
      "text/plain": [
       "<matplotlib.axes._subplots.AxesSubplot at 0x18ccc243940>"
      ]
     },
     "execution_count": 12,
     "metadata": {},
     "output_type": "execute_result"
    },
    {
     "data": {
      "image/png": "[encoded data removed]",
      "text/plain": [
       "<Figure size 432x288 with 1 Axes>"
      ]
     },
     "metadata": {
      "needs_background": "light"
     },
     "output_type": "display_data"
    }
   ],
   "source": [
    "sns.distplot(data['CreditScore'])"
   ]
  },
  {
   "cell_type": "code",
   "execution_count": 13,
   "metadata": {},
   "outputs": [
    {
     "data": {
      "text/html": [
       "<div>\n",
       "<style scoped>\n",
       "    .dataframe tbody tr th:only-of-type {\n",
       "        vertical-align: middle;\n",
       "    }\n",
       "\n",
       "    .dataframe tbody tr th {\n",
       "        vertical-align: top;\n",
       "    }\n",
       "\n",
       "    .dataframe thead th {\n",
       "        text-align: right;\n",
       "    }\n",
       "</style>\n",
       "<table border=\"1\" class=\"dataframe\">\n",
       "  <thead>\n",
       "    <tr style=\"text-align: right;\">\n",
       "      <th></th>\n",
       "      <th>CreditScore</th>\n",
       "      <th>Age</th>\n",
       "      <th>Tenure</th>\n",
       "      <th>Balance</th>\n",
       "      <th>NumOfProducts</th>\n",
       "      <th>HasCrCard</th>\n",
       "      <th>IsActiveMember</th>\n",
       "      <th>EstimatedSalary</th>\n",
       "      <th>Exited</th>\n",
       "      <th>Germany</th>\n",
       "      <th>Spain</th>\n",
       "      <th>Male</th>\n",
       "    </tr>\n",
       "  </thead>\n",
       "  <tbody>\n",
       "    <tr>\n",
       "      <th>0</th>\n",
       "      <td>619</td>\n",
       "      <td>42.0</td>\n",
       "      <td>2</td>\n",
       "      <td>0.00</td>\n",
       "      <td>1</td>\n",
       "      <td>1</td>\n",
       "      <td>1</td>\n",
       "      <td>101348.88</td>\n",
       "      <td>1</td>\n",
       "      <td>0</td>\n",
       "      <td>0</td>\n",
       "      <td>0</td>\n",
       "    </tr>\n",
       "    <tr>\n",
       "      <th>1</th>\n",
       "      <td>608</td>\n",
       "      <td>41.0</td>\n",
       "      <td>1</td>\n",
       "      <td>83807.86</td>\n",
       "      <td>1</td>\n",
       "      <td>0</td>\n",
       "      <td>1</td>\n",
       "      <td>112542.58</td>\n",
       "      <td>0</td>\n",
       "      <td>0</td>\n",
       "      <td>1</td>\n",
       "      <td>0</td>\n",
       "    </tr>\n",
       "    <tr>\n",
       "      <th>2</th>\n",
       "      <td>502</td>\n",
       "      <td>42.0</td>\n",
       "      <td>8</td>\n",
       "      <td>159660.80</td>\n",
       "      <td>3</td>\n",
       "      <td>1</td>\n",
       "      <td>0</td>\n",
       "      <td>113931.57</td>\n",
       "      <td>1</td>\n",
       "      <td>0</td>\n",
       "      <td>0</td>\n",
       "      <td>0</td>\n",
       "    </tr>\n",
       "    <tr>\n",
       "      <th>3</th>\n",
       "      <td>699</td>\n",
       "      <td>39.0</td>\n",
       "      <td>1</td>\n",
       "      <td>0.00</td>\n",
       "      <td>2</td>\n",
       "      <td>0</td>\n",
       "      <td>0</td>\n",
       "      <td>93826.63</td>\n",
       "      <td>0</td>\n",
       "      <td>0</td>\n",
       "      <td>0</td>\n",
       "      <td>0</td>\n",
       "    </tr>\n",
       "    <tr>\n",
       "      <th>4</th>\n",
       "      <td>850</td>\n",
       "      <td>43.0</td>\n",
       "      <td>2</td>\n",
       "      <td>125510.82</td>\n",
       "      <td>1</td>\n",
       "      <td>1</td>\n",
       "      <td>1</td>\n",
       "      <td>79084.10</td>\n",
       "      <td>0</td>\n",
       "      <td>0</td>\n",
       "      <td>1</td>\n",
       "      <td>0</td>\n",
       "    </tr>\n",
       "    <tr>\n",
       "      <th>...</th>\n",
       "      <td>...</td>\n",
       "      <td>...</td>\n",
       "      <td>...</td>\n",
       "      <td>...</td>\n",
       "      <td>...</td>\n",
       "      <td>...</td>\n",
       "      <td>...</td>\n",
       "      <td>...</td>\n",
       "      <td>...</td>\n",
       "      <td>...</td>\n",
       "      <td>...</td>\n",
       "      <td>...</td>\n",
       "    </tr>\n",
       "    <tr>\n",
       "      <th>9995</th>\n",
       "      <td>771</td>\n",
       "      <td>39.0</td>\n",
       "      <td>5</td>\n",
       "      <td>0.00</td>\n",
       "      <td>2</td>\n",
       "      <td>1</td>\n",
       "      <td>0</td>\n",
       "      <td>96270.64</td>\n",
       "      <td>0</td>\n",
       "      <td>0</td>\n",
       "      <td>0</td>\n",
       "      <td>1</td>\n",
       "    </tr>\n",
       "    <tr>\n",
       "      <th>9996</th>\n",
       "      <td>516</td>\n",
       "      <td>35.0</td>\n",
       "      <td>10</td>\n",
       "      <td>57369.61</td>\n",
       "      <td>1</td>\n",
       "      <td>1</td>\n",
       "      <td>1</td>\n",
       "      <td>101699.77</td>\n",
       "      <td>0</td>\n",
       "      <td>0</td>\n",
       "      <td>0</td>\n",
       "      <td>1</td>\n",
       "    </tr>\n",
       "    <tr>\n",
       "      <th>9997</th>\n",
       "      <td>709</td>\n",
       "      <td>36.0</td>\n",
       "      <td>7</td>\n",
       "      <td>0.00</td>\n",
       "      <td>1</td>\n",
       "      <td>0</td>\n",
       "      <td>1</td>\n",
       "      <td>42085.58</td>\n",
       "      <td>1</td>\n",
       "      <td>0</td>\n",
       "      <td>0</td>\n",
       "      <td>0</td>\n",
       "    </tr>\n",
       "    <tr>\n",
       "      <th>9998</th>\n",
       "      <td>772</td>\n",
       "      <td>42.0</td>\n",
       "      <td>3</td>\n",
       "      <td>75075.31</td>\n",
       "      <td>2</td>\n",
       "      <td>1</td>\n",
       "      <td>0</td>\n",
       "      <td>92888.52</td>\n",
       "      <td>1</td>\n",
       "      <td>1</td>\n",
       "      <td>0</td>\n",
       "      <td>1</td>\n",
       "    </tr>\n",
       "    <tr>\n",
       "      <th>9999</th>\n",
       "      <td>792</td>\n",
       "      <td>28.0</td>\n",
       "      <td>4</td>\n",
       "      <td>130142.79</td>\n",
       "      <td>1</td>\n",
       "      <td>1</td>\n",
       "      <td>0</td>\n",
       "      <td>38190.78</td>\n",
       "      <td>0</td>\n",
       "      <td>0</td>\n",
       "      <td>0</td>\n",
       "      <td>0</td>\n",
       "    </tr>\n",
       "  </tbody>\n",
       "</table>\n",
       "<p>10000 rows × 12 columns</p>\n",
       "</div>"
      ],
      "text/plain": [
       "      CreditScore   Age  Tenure    Balance  NumOfProducts  HasCrCard  \\\n",
       "0             619  42.0       2       0.00              1          1   \n",
       "1             608  41.0       1   83807.86              1          0   \n",
       "2             502  42.0       8  159660.80              3          1   \n",
       "3             699  39.0       1       0.00              2          0   \n",
       "4             850  43.0       2  125510.82              1          1   \n",
       "...           ...   ...     ...        ...            ...        ...   \n",
       "9995          771  39.0       5       0.00              2          1   \n",
       "9996          516  35.0      10   57369.61              1          1   \n",
       "9997          709  36.0       7       0.00              1          0   \n",
       "9998          772  42.0       3   75075.31              2          1   \n",
       "9999          792  28.0       4  130142.79              1          1   \n",
       "\n",
       "      IsActiveMember  EstimatedSalary  Exited  Germany  Spain  Male  \n",
       "0                  1        101348.88       1        0      0     0  \n",
       "1                  1        112542.58       0        0      1     0  \n",
       "2                  0        113931.57       1        0      0     0  \n",
       "3                  0         93826.63       0        0      0     0  \n",
       "4                  1         79084.10       0        0      1     0  \n",
       "...              ...              ...     ...      ...    ...   ...  \n",
       "9995               0         96270.64       0        0      0     1  \n",
       "9996               1        101699.77       0        0      0     1  \n",
       "9997               1         42085.58       1        0      0     0  \n",
       "9998               0         92888.52       1        1      0     1  \n",
       "9999               0         38190.78       0        0      0     0  \n",
       "\n",
       "[10000 rows x 12 columns]"
      ]
     },
     "execution_count": 13,
     "metadata": {},
     "output_type": "execute_result"
    }
   ],
   "source": [
    "geography=pd.get_dummies(data[\"Geography\"],drop_first=True)\n",
    "gender=pd.get_dummies(data['Gender'],drop_first=True)\n",
    "data=pd.concat([data,geography,gender],axis=1)\n",
    "data.drop(columns = 'Geography', inplace = True)\n",
    "data.drop(columns = 'Gender', inplace = True)\n",
    "data.drop(columns = 'RowNumber', inplace = True)\n",
    "data.drop(columns = 'CustomerId', inplace = True)\n",
    "data.drop(columns = 'Surname', inplace = True)\n",
    "data"
   ]
  },
  {
   "cell_type": "code",
   "execution_count": 14,
   "metadata": {},
   "outputs": [
    {
     "data": {
      "text/html": [
       "<div>\n",
       "<style scoped>\n",
       "    .dataframe tbody tr th:only-of-type {\n",
       "        vertical-align: middle;\n",
       "    }\n",
       "\n",
       "    .dataframe tbody tr th {\n",
       "        vertical-align: top;\n",
       "    }\n",
       "\n",
       "    .dataframe thead th {\n",
       "        text-align: right;\n",
       "    }\n",
       "</style>\n",
       "<table border=\"1\" class=\"dataframe\">\n",
       "  <thead>\n",
       "    <tr style=\"text-align: right;\">\n",
       "      <th></th>\n",
       "      <th>CreditScore</th>\n",
       "      <th>Age</th>\n",
       "      <th>Tenure</th>\n",
       "      <th>Balance</th>\n",
       "      <th>NumOfProducts</th>\n",
       "      <th>HasCrCard</th>\n",
       "      <th>IsActiveMember</th>\n",
       "      <th>EstimatedSalary</th>\n",
       "      <th>Exited</th>\n",
       "      <th>Germany</th>\n",
       "      <th>Spain</th>\n",
       "      <th>Male</th>\n",
       "    </tr>\n",
       "  </thead>\n",
       "  <tbody>\n",
       "    <tr>\n",
       "      <th>0</th>\n",
       "      <td>619</td>\n",
       "      <td>42.0</td>\n",
       "      <td>2</td>\n",
       "      <td>0.0</td>\n",
       "      <td>1</td>\n",
       "      <td>1</td>\n",
       "      <td>1</td>\n",
       "      <td>101348.88</td>\n",
       "      <td>1</td>\n",
       "      <td>0</td>\n",
       "      <td>0</td>\n",
       "      <td>0</td>\n",
       "    </tr>\n",
       "    <tr>\n",
       "      <th>3</th>\n",
       "      <td>699</td>\n",
       "      <td>39.0</td>\n",
       "      <td>1</td>\n",
       "      <td>0.0</td>\n",
       "      <td>2</td>\n",
       "      <td>0</td>\n",
       "      <td>0</td>\n",
       "      <td>93826.63</td>\n",
       "      <td>0</td>\n",
       "      <td>0</td>\n",
       "      <td>0</td>\n",
       "      <td>0</td>\n",
       "    </tr>\n",
       "    <tr>\n",
       "      <th>6</th>\n",
       "      <td>822</td>\n",
       "      <td>50.0</td>\n",
       "      <td>7</td>\n",
       "      <td>0.0</td>\n",
       "      <td>2</td>\n",
       "      <td>1</td>\n",
       "      <td>1</td>\n",
       "      <td>10062.80</td>\n",
       "      <td>0</td>\n",
       "      <td>0</td>\n",
       "      <td>0</td>\n",
       "      <td>1</td>\n",
       "    </tr>\n",
       "    <tr>\n",
       "      <th>11</th>\n",
       "      <td>497</td>\n",
       "      <td>24.0</td>\n",
       "      <td>3</td>\n",
       "      <td>0.0</td>\n",
       "      <td>2</td>\n",
       "      <td>1</td>\n",
       "      <td>0</td>\n",
       "      <td>76390.01</td>\n",
       "      <td>0</td>\n",
       "      <td>0</td>\n",
       "      <td>1</td>\n",
       "      <td>1</td>\n",
       "    </tr>\n",
       "    <tr>\n",
       "      <th>12</th>\n",
       "      <td>476</td>\n",
       "      <td>34.0</td>\n",
       "      <td>10</td>\n",
       "      <td>0.0</td>\n",
       "      <td>2</td>\n",
       "      <td>1</td>\n",
       "      <td>0</td>\n",
       "      <td>26260.98</td>\n",
       "      <td>0</td>\n",
       "      <td>0</td>\n",
       "      <td>0</td>\n",
       "      <td>0</td>\n",
       "    </tr>\n",
       "    <tr>\n",
       "      <th>...</th>\n",
       "      <td>...</td>\n",
       "      <td>...</td>\n",
       "      <td>...</td>\n",
       "      <td>...</td>\n",
       "      <td>...</td>\n",
       "      <td>...</td>\n",
       "      <td>...</td>\n",
       "      <td>...</td>\n",
       "      <td>...</td>\n",
       "      <td>...</td>\n",
       "      <td>...</td>\n",
       "      <td>...</td>\n",
       "    </tr>\n",
       "    <tr>\n",
       "      <th>9989</th>\n",
       "      <td>841</td>\n",
       "      <td>28.0</td>\n",
       "      <td>4</td>\n",
       "      <td>0.0</td>\n",
       "      <td>2</td>\n",
       "      <td>1</td>\n",
       "      <td>1</td>\n",
       "      <td>179436.60</td>\n",
       "      <td>0</td>\n",
       "      <td>0</td>\n",
       "      <td>1</td>\n",
       "      <td>1</td>\n",
       "    </tr>\n",
       "    <tr>\n",
       "      <th>9992</th>\n",
       "      <td>726</td>\n",
       "      <td>36.0</td>\n",
       "      <td>2</td>\n",
       "      <td>0.0</td>\n",
       "      <td>1</td>\n",
       "      <td>1</td>\n",
       "      <td>0</td>\n",
       "      <td>195192.40</td>\n",
       "      <td>0</td>\n",
       "      <td>0</td>\n",
       "      <td>1</td>\n",
       "      <td>1</td>\n",
       "    </tr>\n",
       "    <tr>\n",
       "      <th>9994</th>\n",
       "      <td>800</td>\n",
       "      <td>29.0</td>\n",
       "      <td>2</td>\n",
       "      <td>0.0</td>\n",
       "      <td>2</td>\n",
       "      <td>0</td>\n",
       "      <td>0</td>\n",
       "      <td>167773.55</td>\n",
       "      <td>0</td>\n",
       "      <td>0</td>\n",
       "      <td>0</td>\n",
       "      <td>0</td>\n",
       "    </tr>\n",
       "    <tr>\n",
       "      <th>9995</th>\n",
       "      <td>771</td>\n",
       "      <td>39.0</td>\n",
       "      <td>5</td>\n",
       "      <td>0.0</td>\n",
       "      <td>2</td>\n",
       "      <td>1</td>\n",
       "      <td>0</td>\n",
       "      <td>96270.64</td>\n",
       "      <td>0</td>\n",
       "      <td>0</td>\n",
       "      <td>0</td>\n",
       "      <td>1</td>\n",
       "    </tr>\n",
       "    <tr>\n",
       "      <th>9997</th>\n",
       "      <td>709</td>\n",
       "      <td>36.0</td>\n",
       "      <td>7</td>\n",
       "      <td>0.0</td>\n",
       "      <td>1</td>\n",
       "      <td>0</td>\n",
       "      <td>1</td>\n",
       "      <td>42085.58</td>\n",
       "      <td>1</td>\n",
       "      <td>0</td>\n",
       "      <td>0</td>\n",
       "      <td>0</td>\n",
       "    </tr>\n",
       "  </tbody>\n",
       "</table>\n",
       "<p>3617 rows × 12 columns</p>\n",
       "</div>"
      ],
      "text/plain": [
       "      CreditScore   Age  Tenure  Balance  NumOfProducts  HasCrCard  \\\n",
       "0             619  42.0       2      0.0              1          1   \n",
       "3             699  39.0       1      0.0              2          0   \n",
       "6             822  50.0       7      0.0              2          1   \n",
       "11            497  24.0       3      0.0              2          1   \n",
       "12            476  34.0      10      0.0              2          1   \n",
       "...           ...   ...     ...      ...            ...        ...   \n",
       "9989          841  28.0       4      0.0              2          1   \n",
       "9992          726  36.0       2      0.0              1          1   \n",
       "9994          800  29.0       2      0.0              2          0   \n",
       "9995          771  39.0       5      0.0              2          1   \n",
       "9997          709  36.0       7      0.0              1          0   \n",
       "\n",
       "      IsActiveMember  EstimatedSalary  Exited  Germany  Spain  Male  \n",
       "0                  1        101348.88       1        0      0     0  \n",
       "3                  0         93826.63       0        0      0     0  \n",
       "6                  1         10062.80       0        0      0     1  \n",
       "11                 0         76390.01       0        0      1     1  \n",
       "12                 0         26260.98       0        0      0     0  \n",
       "...              ...              ...     ...      ...    ...   ...  \n",
       "9989               1        179436.60       0        0      1     1  \n",
       "9992               0        195192.40       0        0      1     1  \n",
       "9994               0        167773.55       0        0      0     0  \n",
       "9995               0         96270.64       0        0      0     1  \n",
       "9997               1         42085.58       1        0      0     0  \n",
       "\n",
       "[3617 rows x 12 columns]"
      ]
     },
     "execution_count": 14,
     "metadata": {},
     "output_type": "execute_result"
    }
   ],
   "source": [
    "data_zero = data.loc[data['Balance']== 0,]\n",
    "data_zero"
   ]
  },
  {
   "cell_type": "code",
   "execution_count": 15,
   "metadata": {},
   "outputs": [
    {
     "data": {
      "text/html": [
       "<div>\n",
       "<style scoped>\n",
       "    .dataframe tbody tr th:only-of-type {\n",
       "        vertical-align: middle;\n",
       "    }\n",
       "\n",
       "    .dataframe tbody tr th {\n",
       "        vertical-align: top;\n",
       "    }\n",
       "\n",
       "    .dataframe thead th {\n",
       "        text-align: right;\n",
       "    }\n",
       "</style>\n",
       "<table border=\"1\" class=\"dataframe\">\n",
       "  <thead>\n",
       "    <tr style=\"text-align: right;\">\n",
       "      <th></th>\n",
       "      <th>CreditScore</th>\n",
       "      <th>Age</th>\n",
       "      <th>Tenure</th>\n",
       "      <th>Balance</th>\n",
       "      <th>NumOfProducts</th>\n",
       "      <th>HasCrCard</th>\n",
       "      <th>IsActiveMember</th>\n",
       "      <th>EstimatedSalary</th>\n",
       "      <th>Exited</th>\n",
       "      <th>Germany</th>\n",
       "      <th>Spain</th>\n",
       "      <th>Male</th>\n",
       "    </tr>\n",
       "  </thead>\n",
       "  <tbody>\n",
       "    <tr>\n",
       "      <th>1</th>\n",
       "      <td>608</td>\n",
       "      <td>41.0</td>\n",
       "      <td>1</td>\n",
       "      <td>83807.86</td>\n",
       "      <td>1</td>\n",
       "      <td>0</td>\n",
       "      <td>1</td>\n",
       "      <td>112542.58</td>\n",
       "      <td>0</td>\n",
       "      <td>0</td>\n",
       "      <td>1</td>\n",
       "      <td>0</td>\n",
       "    </tr>\n",
       "    <tr>\n",
       "      <th>2</th>\n",
       "      <td>502</td>\n",
       "      <td>42.0</td>\n",
       "      <td>8</td>\n",
       "      <td>159660.80</td>\n",
       "      <td>3</td>\n",
       "      <td>1</td>\n",
       "      <td>0</td>\n",
       "      <td>113931.57</td>\n",
       "      <td>1</td>\n",
       "      <td>0</td>\n",
       "      <td>0</td>\n",
       "      <td>0</td>\n",
       "    </tr>\n",
       "    <tr>\n",
       "      <th>4</th>\n",
       "      <td>850</td>\n",
       "      <td>43.0</td>\n",
       "      <td>2</td>\n",
       "      <td>125510.82</td>\n",
       "      <td>1</td>\n",
       "      <td>1</td>\n",
       "      <td>1</td>\n",
       "      <td>79084.10</td>\n",
       "      <td>0</td>\n",
       "      <td>0</td>\n",
       "      <td>1</td>\n",
       "      <td>0</td>\n",
       "    </tr>\n",
       "    <tr>\n",
       "      <th>5</th>\n",
       "      <td>645</td>\n",
       "      <td>44.0</td>\n",
       "      <td>8</td>\n",
       "      <td>113755.78</td>\n",
       "      <td>2</td>\n",
       "      <td>1</td>\n",
       "      <td>0</td>\n",
       "      <td>149756.71</td>\n",
       "      <td>1</td>\n",
       "      <td>0</td>\n",
       "      <td>1</td>\n",
       "      <td>1</td>\n",
       "    </tr>\n",
       "    <tr>\n",
       "      <th>7</th>\n",
       "      <td>376</td>\n",
       "      <td>29.0</td>\n",
       "      <td>4</td>\n",
       "      <td>115046.74</td>\n",
       "      <td>4</td>\n",
       "      <td>1</td>\n",
       "      <td>0</td>\n",
       "      <td>119346.88</td>\n",
       "      <td>1</td>\n",
       "      <td>1</td>\n",
       "      <td>0</td>\n",
       "      <td>0</td>\n",
       "    </tr>\n",
       "    <tr>\n",
       "      <th>...</th>\n",
       "      <td>...</td>\n",
       "      <td>...</td>\n",
       "      <td>...</td>\n",
       "      <td>...</td>\n",
       "      <td>...</td>\n",
       "      <td>...</td>\n",
       "      <td>...</td>\n",
       "      <td>...</td>\n",
       "      <td>...</td>\n",
       "      <td>...</td>\n",
       "      <td>...</td>\n",
       "      <td>...</td>\n",
       "    </tr>\n",
       "    <tr>\n",
       "      <th>9991</th>\n",
       "      <td>597</td>\n",
       "      <td>53.0</td>\n",
       "      <td>4</td>\n",
       "      <td>88381.21</td>\n",
       "      <td>1</td>\n",
       "      <td>1</td>\n",
       "      <td>0</td>\n",
       "      <td>69384.71</td>\n",
       "      <td>1</td>\n",
       "      <td>0</td>\n",
       "      <td>0</td>\n",
       "      <td>0</td>\n",
       "    </tr>\n",
       "    <tr>\n",
       "      <th>9993</th>\n",
       "      <td>644</td>\n",
       "      <td>28.0</td>\n",
       "      <td>7</td>\n",
       "      <td>155060.41</td>\n",
       "      <td>1</td>\n",
       "      <td>1</td>\n",
       "      <td>0</td>\n",
       "      <td>29179.52</td>\n",
       "      <td>0</td>\n",
       "      <td>0</td>\n",
       "      <td>0</td>\n",
       "      <td>1</td>\n",
       "    </tr>\n",
       "    <tr>\n",
       "      <th>9996</th>\n",
       "      <td>516</td>\n",
       "      <td>35.0</td>\n",
       "      <td>10</td>\n",
       "      <td>57369.61</td>\n",
       "      <td>1</td>\n",
       "      <td>1</td>\n",
       "      <td>1</td>\n",
       "      <td>101699.77</td>\n",
       "      <td>0</td>\n",
       "      <td>0</td>\n",
       "      <td>0</td>\n",
       "      <td>1</td>\n",
       "    </tr>\n",
       "    <tr>\n",
       "      <th>9998</th>\n",
       "      <td>772</td>\n",
       "      <td>42.0</td>\n",
       "      <td>3</td>\n",
       "      <td>75075.31</td>\n",
       "      <td>2</td>\n",
       "      <td>1</td>\n",
       "      <td>0</td>\n",
       "      <td>92888.52</td>\n",
       "      <td>1</td>\n",
       "      <td>1</td>\n",
       "      <td>0</td>\n",
       "      <td>1</td>\n",
       "    </tr>\n",
       "    <tr>\n",
       "      <th>9999</th>\n",
       "      <td>792</td>\n",
       "      <td>28.0</td>\n",
       "      <td>4</td>\n",
       "      <td>130142.79</td>\n",
       "      <td>1</td>\n",
       "      <td>1</td>\n",
       "      <td>0</td>\n",
       "      <td>38190.78</td>\n",
       "      <td>0</td>\n",
       "      <td>0</td>\n",
       "      <td>0</td>\n",
       "      <td>0</td>\n",
       "    </tr>\n",
       "  </tbody>\n",
       "</table>\n",
       "<p>6383 rows × 12 columns</p>\n",
       "</div>"
      ],
      "text/plain": [
       "      CreditScore   Age  Tenure    Balance  NumOfProducts  HasCrCard  \\\n",
       "1             608  41.0       1   83807.86              1          0   \n",
       "2             502  42.0       8  159660.80              3          1   \n",
       "4             850  43.0       2  125510.82              1          1   \n",
       "5             645  44.0       8  113755.78              2          1   \n",
       "7             376  29.0       4  115046.74              4          1   \n",
       "...           ...   ...     ...        ...            ...        ...   \n",
       "9991          597  53.0       4   88381.21              1          1   \n",
       "9993          644  28.0       7  155060.41              1          1   \n",
       "9996          516  35.0      10   57369.61              1          1   \n",
       "9998          772  42.0       3   75075.31              2          1   \n",
       "9999          792  28.0       4  130142.79              1          1   \n",
       "\n",
       "      IsActiveMember  EstimatedSalary  Exited  Germany  Spain  Male  \n",
       "1                  1        112542.58       0        0      1     0  \n",
       "2                  0        113931.57       1        0      0     0  \n",
       "4                  1         79084.10       0        0      1     0  \n",
       "5                  0        149756.71       1        0      1     1  \n",
       "7                  0        119346.88       1        1      0     0  \n",
       "...              ...              ...     ...      ...    ...   ...  \n",
       "9991               0         69384.71       1        0      0     0  \n",
       "9993               0         29179.52       0        0      0     1  \n",
       "9996               1        101699.77       0        0      0     1  \n",
       "9998               0         92888.52       1        1      0     1  \n",
       "9999               0         38190.78       0        0      0     0  \n",
       "\n",
       "[6383 rows x 12 columns]"
      ]
     },
     "execution_count": 15,
     "metadata": {},
     "output_type": "execute_result"
    }
   ],
   "source": [
    "data_non_zero = data.loc[data['Balance'] != 0,:]\n",
    "data_non_zero"
   ]
  },
  {
   "cell_type": "markdown",
   "metadata": {},
   "source": [
    "### Model Development"
   ]
  },
  {
   "cell_type": "markdown",
   "metadata": {},
   "source": [
    "### For datasets with balance = 0"
   ]
  },
  {
   "cell_type": "code",
   "execution_count": 16,
   "metadata": {},
   "outputs": [],
   "source": [
    "#y = pd.DataFrame(data_zero['Exited'].map({1: 'Exited', 0 : 'Not Exited'}))\n",
    "y = data_zero['Exited']\n",
    "X = data_zero.copy()\n",
    "X.drop(columns = 'Exited', inplace = True)"
   ]
  },
  {
   "cell_type": "code",
   "execution_count": 17,
   "metadata": {},
   "outputs": [],
   "source": [
    "X_train, X_test, y_train, y_test = train_test_split(X, y, test_size = 0.2, random_state = 0)"
   ]
  },
  {
   "cell_type": "code",
   "execution_count": 18,
   "metadata": {},
   "outputs": [],
   "source": [
    "sc = StandardScaler()\n",
    "X_train = sc.fit_transform(X_train)\n",
    "X_test = sc.transform(X_test)"
   ]
  },
  {
   "cell_type": "code",
   "execution_count": 19,
   "metadata": {},
   "outputs": [
    {
     "name": "stdout",
     "output_type": "stream",
     "text": [
      "Epoch 1/100\n",
      "194/194 [==============================] - 11s 3ms/step - loss: 0.5702 - accuracy: 0.7435 - val_loss: 0.5455 - val_accuracy: 0.7560\n",
      "Epoch 2/100\n",
      "194/194 [==============================] - 0s 1ms/step - loss: 0.4950 - accuracy: 0.8140 - val_loss: 0.5087 - val_accuracy: 0.8147\n",
      "Epoch 3/100\n",
      "194/194 [==============================] - 0s 1ms/step - loss: 0.4753 - accuracy: 0.8326 - val_loss: 0.4859 - val_accuracy: 0.8450\n",
      "Epoch 4/100\n",
      "194/194 [==============================] - 0s 1ms/step - loss: 0.4620 - accuracy: 0.8388 - val_loss: 0.4694 - val_accuracy: 0.8534\n",
      "Epoch 5/100\n",
      "194/194 [==============================] - 0s 1ms/step - loss: 0.4442 - accuracy: 0.8469 - val_loss: 0.4579 - val_accuracy: 0.8576\n",
      "Epoch 6/100\n",
      "194/194 [==============================] - 0s 1ms/step - loss: 0.4306 - accuracy: 0.8544 - val_loss: 0.4482 - val_accuracy: 0.8586\n",
      "Epoch 7/100\n",
      "194/194 [==============================] - 0s 1ms/step - loss: 0.4222 - accuracy: 0.8579 - val_loss: 0.4402 - val_accuracy: 0.8597\n",
      "Epoch 8/100\n",
      "194/194 [==============================] - 0s 1ms/step - loss: 0.3977 - accuracy: 0.8619 - val_loss: 0.4333 - val_accuracy: 0.8597\n",
      "Epoch 9/100\n",
      "194/194 [==============================] - 0s 1ms/step - loss: 0.4392 - accuracy: 0.8415 - val_loss: 0.4276 - val_accuracy: 0.8597\n",
      "Epoch 10/100\n",
      "194/194 [==============================] - 0s 1ms/step - loss: 0.3995 - accuracy: 0.8583 - val_loss: 0.4219 - val_accuracy: 0.8597\n",
      "Epoch 11/100\n",
      "194/194 [==============================] - 0s 1ms/step - loss: 0.3792 - accuracy: 0.8689 - val_loss: 0.4164 - val_accuracy: 0.8597\n",
      "Epoch 12/100\n",
      "194/194 [==============================] - 0s 1ms/step - loss: 0.3964 - accuracy: 0.8600 - val_loss: 0.4117 - val_accuracy: 0.8597\n",
      "Epoch 13/100\n",
      "194/194 [==============================] - 0s 1ms/step - loss: 0.3815 - accuracy: 0.8686 - val_loss: 0.4075 - val_accuracy: 0.8597\n",
      "Epoch 14/100\n",
      "194/194 [==============================] - 0s 978us/step - loss: 0.3764 - accuracy: 0.8592 - val_loss: 0.4037 - val_accuracy: 0.8597\n",
      "Epoch 15/100\n",
      "194/194 [==============================] - 0s 1ms/step - loss: 0.3826 - accuracy: 0.8610 - val_loss: 0.4001 - val_accuracy: 0.8597\n",
      "Epoch 16/100\n",
      "194/194 [==============================] - 0s 1ms/step - loss: 0.3734 - accuracy: 0.8594 - val_loss: 0.3967 - val_accuracy: 0.8597\n",
      "Epoch 17/100\n",
      "194/194 [==============================] - 0s 1ms/step - loss: 0.3579 - accuracy: 0.8738 - val_loss: 0.3934 - val_accuracy: 0.8597\n",
      "Epoch 18/100\n",
      "194/194 [==============================] - 0s 1ms/step - loss: 0.3573 - accuracy: 0.8698 - val_loss: 0.3904 - val_accuracy: 0.8597\n",
      "Epoch 19/100\n",
      "194/194 [==============================] - 0s 1ms/step - loss: 0.3557 - accuracy: 0.8642 - val_loss: 0.3876 - val_accuracy: 0.8607\n",
      "Epoch 20/100\n",
      "194/194 [==============================] - 0s 1ms/step - loss: 0.3838 - accuracy: 0.8463 - val_loss: 0.3851 - val_accuracy: 0.8597\n",
      "Epoch 21/100\n",
      "194/194 [==============================] - 0s 1ms/step - loss: 0.3501 - accuracy: 0.8677 - val_loss: 0.3825 - val_accuracy: 0.8586\n",
      "Epoch 22/100\n",
      "194/194 [==============================] - 0s 1ms/step - loss: 0.3770 - accuracy: 0.8534 - val_loss: 0.3803 - val_accuracy: 0.8597\n",
      "Epoch 23/100\n",
      "194/194 [==============================] - 0s 1ms/step - loss: 0.3784 - accuracy: 0.8532 - val_loss: 0.3779 - val_accuracy: 0.8597\n",
      "Epoch 24/100\n",
      "194/194 [==============================] - 0s 1ms/step - loss: 0.3247 - accuracy: 0.8796 - val_loss: 0.3761 - val_accuracy: 0.8597\n",
      "Epoch 25/100\n",
      "194/194 [==============================] - 0s 1ms/step - loss: 0.3522 - accuracy: 0.8692 - val_loss: 0.3741 - val_accuracy: 0.8607\n",
      "Epoch 26/100\n",
      "194/194 [==============================] - 0s 1ms/step - loss: 0.3342 - accuracy: 0.8775 - val_loss: 0.3723 - val_accuracy: 0.8649\n",
      "Epoch 27/100\n",
      "194/194 [==============================] - 0s 1ms/step - loss: 0.3457 - accuracy: 0.8704 - val_loss: 0.3706 - val_accuracy: 0.8660\n",
      "Epoch 28/100\n",
      "194/194 [==============================] - 0s 985us/step - loss: 0.3479 - accuracy: 0.8707 - val_loss: 0.3691 - val_accuracy: 0.8660\n",
      "Epoch 29/100\n",
      "194/194 [==============================] - 0s 1ms/step - loss: 0.3372 - accuracy: 0.8779 - val_loss: 0.3677 - val_accuracy: 0.8660\n",
      "Epoch 30/100\n",
      "194/194 [==============================] - 0s 1ms/step - loss: 0.3478 - accuracy: 0.8748 - val_loss: 0.3663 - val_accuracy: 0.8681\n",
      "Epoch 31/100\n",
      "194/194 [==============================] - 0s 1ms/step - loss: 0.3507 - accuracy: 0.8713 - val_loss: 0.3648 - val_accuracy: 0.8681\n",
      "Epoch 32/100\n",
      "194/194 [==============================] - 0s 1ms/step - loss: 0.3373 - accuracy: 0.8754 - val_loss: 0.3635 - val_accuracy: 0.8712\n",
      "Epoch 33/100\n",
      "194/194 [==============================] - 0s 1ms/step - loss: 0.3426 - accuracy: 0.8765 - val_loss: 0.3622 - val_accuracy: 0.8712\n",
      "Epoch 34/100\n",
      "194/194 [==============================] - 0s 997us/step - loss: 0.3305 - accuracy: 0.8840 - val_loss: 0.3611 - val_accuracy: 0.8712\n",
      "Epoch 35/100\n",
      "194/194 [==============================] - 0s 1ms/step - loss: 0.3299 - accuracy: 0.8769 - val_loss: 0.3599 - val_accuracy: 0.8712\n",
      "Epoch 36/100\n",
      "194/194 [==============================] - 0s 1ms/step - loss: 0.3319 - accuracy: 0.8772 - val_loss: 0.3588 - val_accuracy: 0.8702\n",
      "Epoch 37/100\n",
      "194/194 [==============================] - 0s 1ms/step - loss: 0.3459 - accuracy: 0.8695 - val_loss: 0.3577 - val_accuracy: 0.8702\n",
      "Epoch 38/100\n",
      "194/194 [==============================] - 0s 1ms/step - loss: 0.3297 - accuracy: 0.8792 - val_loss: 0.3566 - val_accuracy: 0.8712\n",
      "Epoch 39/100\n",
      "194/194 [==============================] - 0s 1ms/step - loss: 0.3437 - accuracy: 0.8697 - val_loss: 0.3555 - val_accuracy: 0.8723\n",
      "Epoch 40/100\n",
      "194/194 [==============================] - 0s 1ms/step - loss: 0.3182 - accuracy: 0.8862 - val_loss: 0.3545 - val_accuracy: 0.8733\n",
      "Epoch 41/100\n",
      "194/194 [==============================] - 0s 1ms/step - loss: 0.3417 - accuracy: 0.8787 - val_loss: 0.3533 - val_accuracy: 0.8733\n",
      "Epoch 42/100\n",
      "194/194 [==============================] - 0s 1ms/step - loss: 0.3336 - accuracy: 0.8776 - val_loss: 0.3521 - val_accuracy: 0.8733\n",
      "Epoch 43/100\n",
      "194/194 [==============================] - 0s 1ms/step - loss: 0.3166 - accuracy: 0.8873 - val_loss: 0.3509 - val_accuracy: 0.8733\n",
      "Epoch 44/100\n",
      "194/194 [==============================] - 0s 1ms/step - loss: 0.3422 - accuracy: 0.8678 - val_loss: 0.3500 - val_accuracy: 0.8733\n",
      "Epoch 45/100\n",
      "194/194 [==============================] - 0s 1ms/step - loss: 0.3037 - accuracy: 0.8907 - val_loss: 0.3490 - val_accuracy: 0.8733\n",
      "Epoch 46/100\n",
      "194/194 [==============================] - 0s 1ms/step - loss: 0.2985 - accuracy: 0.8879 - val_loss: 0.3481 - val_accuracy: 0.8733\n",
      "Epoch 47/100\n",
      "194/194 [==============================] - 0s 1ms/step - loss: 0.3204 - accuracy: 0.8791 - val_loss: 0.3470 - val_accuracy: 0.8754\n",
      "Epoch 48/100\n",
      "194/194 [==============================] - 0s 1ms/step - loss: 0.2992 - accuracy: 0.8985 - val_loss: 0.3458 - val_accuracy: 0.8743\n",
      "Epoch 49/100\n",
      "194/194 [==============================] - 0s 1ms/step - loss: 0.2750 - accuracy: 0.9018 - val_loss: 0.3448 - val_accuracy: 0.8743\n",
      "Epoch 50/100\n",
      "194/194 [==============================] - 0s 1ms/step - loss: 0.3187 - accuracy: 0.8795 - val_loss: 0.3433 - val_accuracy: 0.8754\n",
      "Epoch 51/100\n",
      "194/194 [==============================] - 0s 1ms/step - loss: 0.3080 - accuracy: 0.8899 - val_loss: 0.3421 - val_accuracy: 0.8754\n",
      "Epoch 52/100\n",
      "194/194 [==============================] - 0s 1ms/step - loss: 0.3073 - accuracy: 0.8897 - val_loss: 0.3409 - val_accuracy: 0.8785\n",
      "Epoch 53/100\n",
      "194/194 [==============================] - 0s 1ms/step - loss: 0.3049 - accuracy: 0.8901 - val_loss: 0.3395 - val_accuracy: 0.8785\n",
      "Epoch 54/100\n",
      "194/194 [==============================] - 0s 1ms/step - loss: 0.3099 - accuracy: 0.8901 - val_loss: 0.3381 - val_accuracy: 0.8785\n",
      "Epoch 55/100\n",
      "194/194 [==============================] - 0s 1ms/step - loss: 0.2987 - accuracy: 0.8954 - val_loss: 0.3368 - val_accuracy: 0.8796\n",
      "Epoch 56/100\n",
      "194/194 [==============================] - 0s 1ms/step - loss: 0.2935 - accuracy: 0.8939 - val_loss: 0.3355 - val_accuracy: 0.8785\n",
      "Epoch 57/100\n",
      "194/194 [==============================] - 0s 1ms/step - loss: 0.2975 - accuracy: 0.8934 - val_loss: 0.3343 - val_accuracy: 0.8785\n"
     ]
    },
    {
     "name": "stdout",
     "output_type": "stream",
     "text": [
      "Epoch 58/100\n",
      "194/194 [==============================] - 0s 1ms/step - loss: 0.3192 - accuracy: 0.8849 - val_loss: 0.3330 - val_accuracy: 0.8785\n",
      "Epoch 59/100\n",
      "194/194 [==============================] - 0s 1ms/step - loss: 0.2930 - accuracy: 0.8892 - val_loss: 0.3318 - val_accuracy: 0.8785\n",
      "Epoch 60/100\n",
      "194/194 [==============================] - 0s 1ms/step - loss: 0.2980 - accuracy: 0.8860 - val_loss: 0.3306 - val_accuracy: 0.8785\n",
      "Epoch 61/100\n",
      "194/194 [==============================] - 0s 1ms/step - loss: 0.3089 - accuracy: 0.8859 - val_loss: 0.3295 - val_accuracy: 0.8796\n",
      "Epoch 62/100\n",
      "194/194 [==============================] - 0s 1ms/step - loss: 0.2912 - accuracy: 0.8946 - val_loss: 0.3281 - val_accuracy: 0.8796\n",
      "Epoch 63/100\n",
      "194/194 [==============================] - 0s 1ms/step - loss: 0.2786 - accuracy: 0.8954 - val_loss: 0.3271 - val_accuracy: 0.8796\n",
      "Epoch 64/100\n",
      "194/194 [==============================] - 0s 1ms/step - loss: 0.2970 - accuracy: 0.8911 - val_loss: 0.3258 - val_accuracy: 0.8796\n",
      "Epoch 65/100\n",
      "194/194 [==============================] - 0s 1ms/step - loss: 0.3105 - accuracy: 0.8819 - val_loss: 0.3247 - val_accuracy: 0.8806\n",
      "Epoch 66/100\n",
      "194/194 [==============================] - 0s 1ms/step - loss: 0.2817 - accuracy: 0.8992 - val_loss: 0.3236 - val_accuracy: 0.8817\n",
      "Epoch 67/100\n",
      "194/194 [==============================] - 0s 997us/step - loss: 0.3282 - accuracy: 0.8757 - val_loss: 0.3224 - val_accuracy: 0.8817\n",
      "Epoch 68/100\n",
      "194/194 [==============================] - 0s 997us/step - loss: 0.3058 - accuracy: 0.8781 - val_loss: 0.3213 - val_accuracy: 0.8806\n",
      "Epoch 69/100\n",
      "194/194 [==============================] - 0s 1ms/step - loss: 0.2953 - accuracy: 0.8882 - val_loss: 0.3201 - val_accuracy: 0.8806\n",
      "Epoch 70/100\n",
      "194/194 [==============================] - 0s 1ms/step - loss: 0.2785 - accuracy: 0.8987 - val_loss: 0.3191 - val_accuracy: 0.8817\n",
      "Epoch 71/100\n",
      "194/194 [==============================] - 0s 1ms/step - loss: 0.2731 - accuracy: 0.9028 - val_loss: 0.3180 - val_accuracy: 0.8817\n",
      "Epoch 72/100\n",
      "194/194 [==============================] - 0s 1ms/step - loss: 0.3153 - accuracy: 0.8788 - val_loss: 0.3169 - val_accuracy: 0.8827\n",
      "Epoch 73/100\n",
      "194/194 [==============================] - 0s 1ms/step - loss: 0.3108 - accuracy: 0.8770 - val_loss: 0.3160 - val_accuracy: 0.8838\n",
      "Epoch 74/100\n",
      "194/194 [==============================] - 0s 1ms/step - loss: 0.3047 - accuracy: 0.8785 - val_loss: 0.3150 - val_accuracy: 0.8838\n",
      "Epoch 75/100\n",
      "194/194 [==============================] - 0s 1ms/step - loss: 0.3050 - accuracy: 0.8853 - val_loss: 0.3140 - val_accuracy: 0.8838\n",
      "Epoch 76/100\n",
      "194/194 [==============================] - 0s 1ms/step - loss: 0.2964 - accuracy: 0.8873 - val_loss: 0.3131 - val_accuracy: 0.8827\n",
      "Epoch 77/100\n",
      "194/194 [==============================] - 0s 1ms/step - loss: 0.2827 - accuracy: 0.8963 - val_loss: 0.3122 - val_accuracy: 0.8838\n",
      "Epoch 78/100\n",
      "194/194 [==============================] - 0s 1ms/step - loss: 0.2931 - accuracy: 0.8883 - val_loss: 0.3113 - val_accuracy: 0.8838\n",
      "Epoch 79/100\n",
      "194/194 [==============================] - 0s 1ms/step - loss: 0.2862 - accuracy: 0.8934 - val_loss: 0.3106 - val_accuracy: 0.8838\n",
      "Epoch 80/100\n",
      "194/194 [==============================] - 0s 1ms/step - loss: 0.3031 - accuracy: 0.8854 - val_loss: 0.3097 - val_accuracy: 0.8838\n",
      "Epoch 81/100\n",
      "194/194 [==============================] - 0s 1ms/step - loss: 0.2793 - accuracy: 0.8916 - val_loss: 0.3088 - val_accuracy: 0.8838\n",
      "Epoch 82/100\n",
      "194/194 [==============================] - 0s 1ms/step - loss: 0.2854 - accuracy: 0.8881 - val_loss: 0.3079 - val_accuracy: 0.8838\n",
      "Epoch 83/100\n",
      "194/194 [==============================] - 0s 1ms/step - loss: 0.2814 - accuracy: 0.8893 - val_loss: 0.3070 - val_accuracy: 0.8838\n",
      "Epoch 84/100\n",
      "194/194 [==============================] - 0s 1ms/step - loss: 0.2803 - accuracy: 0.8859 - val_loss: 0.3059 - val_accuracy: 0.8838\n",
      "Epoch 85/100\n",
      "194/194 [==============================] - 0s 1ms/step - loss: 0.2638 - accuracy: 0.8978 - val_loss: 0.3051 - val_accuracy: 0.8848\n",
      "Epoch 86/100\n",
      "194/194 [==============================] - 0s 1ms/step - loss: 0.2658 - accuracy: 0.8993 - val_loss: 0.3043 - val_accuracy: 0.8848\n",
      "Epoch 87/100\n",
      "194/194 [==============================] - 0s 1ms/step - loss: 0.2888 - accuracy: 0.8840 - val_loss: 0.3035 - val_accuracy: 0.8848\n",
      "Epoch 88/100\n",
      "194/194 [==============================] - 0s 1ms/step - loss: 0.2650 - accuracy: 0.8965 - val_loss: 0.3027 - val_accuracy: 0.8848\n",
      "Epoch 89/100\n",
      "194/194 [==============================] - 0s 1ms/step - loss: 0.2557 - accuracy: 0.9043 - val_loss: 0.3018 - val_accuracy: 0.8848\n",
      "Epoch 90/100\n",
      "194/194 [==============================] - 0s 1ms/step - loss: 0.2706 - accuracy: 0.8957 - val_loss: 0.3010 - val_accuracy: 0.8848\n",
      "Epoch 91/100\n",
      "194/194 [==============================] - 0s 1ms/step - loss: 0.2609 - accuracy: 0.8989 - val_loss: 0.3001 - val_accuracy: 0.8838\n",
      "Epoch 92/100\n",
      "194/194 [==============================] - 0s 1ms/step - loss: 0.2821 - accuracy: 0.8847 - val_loss: 0.2995 - val_accuracy: 0.8827\n",
      "Epoch 93/100\n",
      "194/194 [==============================] - 0s 1ms/step - loss: 0.2701 - accuracy: 0.8894 - val_loss: 0.2988 - val_accuracy: 0.8848\n",
      "Epoch 94/100\n",
      "194/194 [==============================] - 0s 1ms/step - loss: 0.2689 - accuracy: 0.8937 - val_loss: 0.2981 - val_accuracy: 0.8848\n",
      "Epoch 95/100\n",
      "194/194 [==============================] - 0s 1ms/step - loss: 0.2852 - accuracy: 0.8949 - val_loss: 0.2974 - val_accuracy: 0.8848\n",
      "Epoch 96/100\n",
      "194/194 [==============================] - 0s 1ms/step - loss: 0.2684 - accuracy: 0.8864 - val_loss: 0.2965 - val_accuracy: 0.8859\n",
      "Epoch 97/100\n",
      "194/194 [==============================] - 0s 1ms/step - loss: 0.2772 - accuracy: 0.8837 - val_loss: 0.2959 - val_accuracy: 0.8859\n",
      "Epoch 98/100\n",
      "194/194 [==============================] - 0s 1ms/step - loss: 0.2409 - accuracy: 0.9009 - val_loss: 0.2951 - val_accuracy: 0.8848\n",
      "Epoch 99/100\n",
      "194/194 [==============================] - 0s 1ms/step - loss: 0.2683 - accuracy: 0.9031 - val_loss: 0.2945 - val_accuracy: 0.8848\n",
      "Epoch 100/100\n",
      "194/194 [==============================] - 0s 1ms/step - loss: 0.2743 - accuracy: 0.8914 - val_loss: 0.2939 - val_accuracy: 0.8848\n"
     ]
    }
   ],
   "source": [
    "# Initialising the ANN\n",
    "zero_classifier = Sequential()\n",
    "\n",
    "# Adding the input layer and the first hidden layer\n",
    "zero_classifier.add(Dense(units = 6, kernel_initializer = 'he_uniform',activation='relu',input_dim = 11))\n",
    "\n",
    "# Adding the second hidden layer\n",
    "zero_classifier.add(Dense(units = 6, kernel_initializer = 'he_uniform',activation='relu'))\n",
    "# Adding the output layer\n",
    "zero_classifier.add(Dense(units = 1, kernel_initializer = 'glorot_uniform', activation = 'sigmoid'))\n",
    "\n",
    "# Compiling the ANN\n",
    "zero_classifier.compile(optimizer = 'Adamax', loss = 'binary_crossentropy', metrics = ['accuracy'])\n",
    "\n",
    "# Fitting the ANN to the Training set\n",
    "model_history=zero_classifier.fit(X_train, y_train,validation_split=0.33, batch_size = 10, epochs = 100)"
   ]
  },
  {
   "cell_type": "code",
   "execution_count": 20,
   "metadata": {},
   "outputs": [
    {
     "data": {
      "text/plain": [
       "dict_keys(['loss', 'accuracy', 'val_loss', 'val_accuracy'])"
      ]
     },
     "execution_count": 20,
     "metadata": {},
     "output_type": "execute_result"
    }
   ],
   "source": [
    "model_history.history.keys()"
   ]
  },
  {
   "cell_type": "code",
   "execution_count": 21,
   "metadata": {},
   "outputs": [
    {
     "name": "stdout",
     "output_type": "stream",
     "text": [
      "dict_keys(['loss', 'accuracy', 'val_loss', 'val_accuracy'])\n"
     ]
    },
    {
     "data": {
      "image/png": "[encoded data removed]",
      "text/plain": [
       "<Figure size 432x288 with 1 Axes>"
      ]
     },
     "metadata": {
      "needs_background": "light"
     },
     "output_type": "display_data"
    },
    {
     "data": {
      "text/plain": [
       "<function matplotlib.pyplot.clf()>"
      ]
     },
     "execution_count": 21,
     "metadata": {},
     "output_type": "execute_result"
    }
   ],
   "source": [
    "print(model_history.history.keys())\n",
    "# summarize history for accuracy\n",
    "plt.plot(model_history.history['accuracy'])\n",
    "plt.plot(model_history.history['val_accuracy'])\n",
    "plt.title('model accuracy')\n",
    "plt.ylabel('accuracy')\n",
    "plt.xlabel('epoch')\n",
    "plt.legend(['train', 'test'], loc='upper left')\n",
    "plt.show()\n",
    "plt.clf\n"
   ]
  },
  {
   "cell_type": "code",
   "execution_count": 22,
   "metadata": {},
   "outputs": [
    {
     "data": {
      "image/png": "[encoded data removed]",
      "text/plain": [
       "<Figure size 432x288 with 1 Axes>"
      ]
     },
     "metadata": {
      "needs_background": "light"
     },
     "output_type": "display_data"
    },
    {
     "data": {
      "text/plain": [
       "<function matplotlib.pyplot.clf()>"
      ]
     },
     "execution_count": 22,
     "metadata": {},
     "output_type": "execute_result"
    }
   ],
   "source": [
    "# summarize history for loss\n",
    "plt.plot(model_history.history['loss'])\n",
    "plt.plot(model_history.history['val_loss'])\n",
    "plt.title('model loss')\n",
    "plt.ylabel('loss')\n",
    "plt.xlabel('epoch')\n",
    "plt.legend(['train', 'test'], loc='upper left')\n",
    "plt.show()\n",
    "plt.clf"
   ]
  },
  {
   "cell_type": "markdown",
   "metadata": {},
   "source": [
    "##### Predicting the Test set results"
   ]
  },
  {
   "cell_type": "code",
   "execution_count": 23,
   "metadata": {},
   "outputs": [],
   "source": [
    "y_pred = zero_classifier.predict(X_test)\n",
    "y_pred = (y_pred > 0.5)"
   ]
  },
  {
   "cell_type": "code",
   "execution_count": 24,
   "metadata": {},
   "outputs": [
    {
     "name": "stdout",
     "output_type": "stream",
     "text": [
      "              precision    recall  f1-score   support\n",
      "\n",
      "           0       0.89      0.97      0.93       627\n",
      "           1       0.61      0.26      0.36        97\n",
      "\n",
      "    accuracy                           0.88       724\n",
      "   macro avg       0.75      0.62      0.65       724\n",
      "weighted avg       0.86      0.88      0.86       724\n",
      "\n",
      "Accuracy: 0.8784530386740331\n"
     ]
    },
    {
     "data": {
      "image/png": "[encoded data removed]",
      "text/plain": [
       "<Figure size 432x288 with 2 Axes>"
      ]
     },
     "metadata": {
      "needs_background": "light"
     },
     "output_type": "display_data"
    }
   ],
   "source": [
    "labels = list(set(y_train))\n",
    "labels.sort()\n",
    "rf_cm = confusion_matrix(y_test,y_pred, labels = labels)\n",
    "ax= plt.subplot()\n",
    "sns.heatmap(rf_cm, annot=True, ax = ax,cmap='Blues',fmt=\"d\"); #annot=True to annotate cells\n",
    "# labels, title and ticks\n",
    "ax.set_xlabel('Predicted');ax.set_ylabel('Actual'); \n",
    "ax.set_title('Confusion matrix of the Decision Tree'); \n",
    "ax.xaxis.set_ticklabels(labels,rotation = 90); \n",
    "ax.yaxis.set_ticklabels(labels,rotation = 0);\n",
    "\n",
    "print(classification_report(y_test, y_pred))\n",
    "\n",
    "print(\"Accuracy:\",accuracy_score(y_pred,y_test))"
   ]
  },
  {
   "cell_type": "markdown",
   "metadata": {},
   "source": [
    "### For datasets with balance != 0"
   ]
  },
  {
   "cell_type": "code",
   "execution_count": 25,
   "metadata": {},
   "outputs": [],
   "source": [
    "y = data_non_zero['Exited']\n",
    "X = data_non_zero.copy()\n",
    "X.drop(columns = 'Exited', inplace = True)"
   ]
  },
  {
   "cell_type": "code",
   "execution_count": 26,
   "metadata": {},
   "outputs": [],
   "source": [
    "X_train, X_test, y_train, y_test = train_test_split(X, y, test_size = 0.2, random_state = 0)"
   ]
  },
  {
   "cell_type": "code",
   "execution_count": 27,
   "metadata": {},
   "outputs": [],
   "source": [
    "sc = StandardScaler()\n",
    "X_train = sc.fit_transform(X_train)\n",
    "X_test = sc.transform(X_test)"
   ]
  },
  {
   "cell_type": "code",
   "execution_count": 28,
   "metadata": {},
   "outputs": [
    {
     "name": "stdout",
     "output_type": "stream",
     "text": [
      "Epoch 1/100\n",
      "343/343 [==============================] - 1s 2ms/step - loss: 0.7351 - accuracy: 0.6286 - val_loss: 0.6527 - val_accuracy: 0.7050\n",
      "Epoch 2/100\n",
      "343/343 [==============================] - 0s 1ms/step - loss: 0.6292 - accuracy: 0.6987 - val_loss: 0.5960 - val_accuracy: 0.7531\n",
      "Epoch 3/100\n",
      "343/343 [==============================] - 0s 1ms/step - loss: 0.5764 - accuracy: 0.7608 - val_loss: 0.5667 - val_accuracy: 0.7626\n",
      "Epoch 4/100\n",
      "343/343 [==============================] - 0s 1ms/step - loss: 0.5611 - accuracy: 0.7612 - val_loss: 0.5470 - val_accuracy: 0.7739\n",
      "Epoch 5/100\n",
      "343/343 [==============================] - 0s 995us/step - loss: 0.5575 - accuracy: 0.7531 - val_loss: 0.5329 - val_accuracy: 0.7780\n",
      "Epoch 6/100\n",
      "343/343 [==============================] - 0s 1ms/step - loss: 0.5376 - accuracy: 0.7665 - val_loss: 0.5214 - val_accuracy: 0.7792\n",
      "Epoch 7/100\n",
      "343/343 [==============================] - 0s 1ms/step - loss: 0.5085 - accuracy: 0.7820 - val_loss: 0.5146 - val_accuracy: 0.7798\n",
      "Epoch 8/100\n",
      "343/343 [==============================] - 0s 1ms/step - loss: 0.5230 - accuracy: 0.7704 - val_loss: 0.5067 - val_accuracy: 0.7840\n",
      "Epoch 9/100\n",
      "343/343 [==============================] - 0s 1ms/step - loss: 0.5086 - accuracy: 0.7778 - val_loss: 0.4988 - val_accuracy: 0.7858\n",
      "Epoch 10/100\n",
      "343/343 [==============================] - 0s 1ms/step - loss: 0.4941 - accuracy: 0.7754 - val_loss: 0.4909 - val_accuracy: 0.7869\n",
      "Epoch 11/100\n",
      "343/343 [==============================] - 0s 1ms/step - loss: 0.4941 - accuracy: 0.7722 - val_loss: 0.4835 - val_accuracy: 0.7917\n",
      "Epoch 12/100\n",
      "343/343 [==============================] - 0s 1ms/step - loss: 0.4856 - accuracy: 0.7780 - val_loss: 0.4767 - val_accuracy: 0.7947\n",
      "Epoch 13/100\n",
      "343/343 [==============================] - 0s 1ms/step - loss: 0.4786 - accuracy: 0.7821 - val_loss: 0.4705 - val_accuracy: 0.7923\n",
      "Epoch 14/100\n",
      "343/343 [==============================] - 0s 1ms/step - loss: 0.4539 - accuracy: 0.7970 - val_loss: 0.4652 - val_accuracy: 0.7964\n",
      "Epoch 15/100\n",
      "343/343 [==============================] - 0s 1ms/step - loss: 0.4655 - accuracy: 0.7945 - val_loss: 0.4608 - val_accuracy: 0.8030\n",
      "Epoch 16/100\n",
      "343/343 [==============================] - 0s 1ms/step - loss: 0.4678 - accuracy: 0.7948 - val_loss: 0.4568 - val_accuracy: 0.8047\n",
      "Epoch 17/100\n",
      "343/343 [==============================] - 0s 1ms/step - loss: 0.4579 - accuracy: 0.8040 - val_loss: 0.4536 - val_accuracy: 0.8036\n",
      "Epoch 18/100\n",
      "343/343 [==============================] - 0s 1ms/step - loss: 0.4496 - accuracy: 0.7979 - val_loss: 0.4508 - val_accuracy: 0.8053\n",
      "Epoch 19/100\n",
      "343/343 [==============================] - 0s 1ms/step - loss: 0.4440 - accuracy: 0.8055 - val_loss: 0.4485 - val_accuracy: 0.8071\n",
      "Epoch 20/100\n",
      "343/343 [==============================] - 0s 1ms/step - loss: 0.4515 - accuracy: 0.8024 - val_loss: 0.4463 - val_accuracy: 0.8095\n",
      "Epoch 21/100\n",
      "343/343 [==============================] - 0s 1ms/step - loss: 0.4416 - accuracy: 0.8072 - val_loss: 0.4449 - val_accuracy: 0.8101\n",
      "Epoch 22/100\n",
      "343/343 [==============================] - 0s 1ms/step - loss: 0.4512 - accuracy: 0.7945 - val_loss: 0.4436 - val_accuracy: 0.8125\n",
      "Epoch 23/100\n",
      "343/343 [==============================] - 0s 1ms/step - loss: 0.4548 - accuracy: 0.7993 - val_loss: 0.4422 - val_accuracy: 0.8131\n",
      "Epoch 24/100\n",
      "343/343 [==============================] - 0s 1ms/step - loss: 0.4330 - accuracy: 0.8115 - val_loss: 0.4414 - val_accuracy: 0.8125\n",
      "Epoch 25/100\n",
      "343/343 [==============================] - 0s 988us/step - loss: 0.4249 - accuracy: 0.8100 - val_loss: 0.4404 - val_accuracy: 0.8119\n",
      "Epoch 26/100\n",
      "343/343 [==============================] - 0s 1ms/step - loss: 0.4348 - accuracy: 0.8094 - val_loss: 0.4397 - val_accuracy: 0.8119\n",
      "Epoch 27/100\n",
      "343/343 [==============================] - 0s 1ms/step - loss: 0.4448 - accuracy: 0.8055 - val_loss: 0.4388 - val_accuracy: 0.8136\n",
      "Epoch 28/100\n",
      "343/343 [==============================] - 0s 1ms/step - loss: 0.4198 - accuracy: 0.8181 - val_loss: 0.4380 - val_accuracy: 0.8136\n",
      "Epoch 29/100\n",
      "343/343 [==============================] - 0s 1ms/step - loss: 0.4295 - accuracy: 0.8109 - val_loss: 0.4372 - val_accuracy: 0.8131\n",
      "Epoch 30/100\n",
      "343/343 [==============================] - 0s 1ms/step - loss: 0.4409 - accuracy: 0.8053 - val_loss: 0.4365 - val_accuracy: 0.8166\n",
      "Epoch 31/100\n",
      "343/343 [==============================] - 0s 1ms/step - loss: 0.4386 - accuracy: 0.8140 - val_loss: 0.4358 - val_accuracy: 0.8160\n",
      "Epoch 32/100\n",
      "343/343 [==============================] - 0s 1ms/step - loss: 0.4307 - accuracy: 0.8123 - val_loss: 0.4353 - val_accuracy: 0.8172\n",
      "Epoch 33/100\n",
      "343/343 [==============================] - 0s 1ms/step - loss: 0.4217 - accuracy: 0.8221 - val_loss: 0.4346 - val_accuracy: 0.8160\n",
      "Epoch 34/100\n",
      "343/343 [==============================] - 0s 1ms/step - loss: 0.4188 - accuracy: 0.8197 - val_loss: 0.4342 - val_accuracy: 0.8160\n",
      "Epoch 35/100\n",
      "343/343 [==============================] - 0s 1ms/step - loss: 0.4308 - accuracy: 0.8098 - val_loss: 0.4337 - val_accuracy: 0.8166\n",
      "Epoch 36/100\n",
      "343/343 [==============================] - 0s 1ms/step - loss: 0.4359 - accuracy: 0.8077 - val_loss: 0.4332 - val_accuracy: 0.8166\n",
      "Epoch 37/100\n",
      "343/343 [==============================] - 0s 1ms/step - loss: 0.4183 - accuracy: 0.8206 - val_loss: 0.4327 - val_accuracy: 0.8172\n",
      "Epoch 38/100\n",
      "343/343 [==============================] - 0s 1ms/step - loss: 0.4133 - accuracy: 0.8188 - val_loss: 0.4324 - val_accuracy: 0.8166\n",
      "Epoch 39/100\n",
      "343/343 [==============================] - 0s 1ms/step - loss: 0.4336 - accuracy: 0.8087 - val_loss: 0.4319 - val_accuracy: 0.8190\n",
      "Epoch 40/100\n",
      "343/343 [==============================] - 0s 1ms/step - loss: 0.4381 - accuracy: 0.8082 - val_loss: 0.4313 - val_accuracy: 0.8190\n",
      "Epoch 41/100\n",
      "343/343 [==============================] - 0s 968us/step - loss: 0.4191 - accuracy: 0.8160 - val_loss: 0.4309 - val_accuracy: 0.8172\n",
      "Epoch 42/100\n",
      "343/343 [==============================] - 0s 1ms/step - loss: 0.4256 - accuracy: 0.8139 - val_loss: 0.4307 - val_accuracy: 0.8154\n",
      "Epoch 43/100\n",
      "343/343 [==============================] - 0s 1ms/step - loss: 0.4177 - accuracy: 0.8189 - val_loss: 0.4304 - val_accuracy: 0.8160\n",
      "Epoch 44/100\n",
      "343/343 [==============================] - 0s 998us/step - loss: 0.4262 - accuracy: 0.8149 - val_loss: 0.4299 - val_accuracy: 0.8160\n",
      "Epoch 45/100\n",
      "343/343 [==============================] - 0s 1ms/step - loss: 0.4249 - accuracy: 0.8172 - val_loss: 0.4296 - val_accuracy: 0.8166\n",
      "Epoch 46/100\n",
      "343/343 [==============================] - 0s 988us/step - loss: 0.3988 - accuracy: 0.8320 - val_loss: 0.4294 - val_accuracy: 0.8160\n",
      "Epoch 47/100\n",
      "343/343 [==============================] - 0s 1ms/step - loss: 0.4229 - accuracy: 0.8156 - val_loss: 0.4292 - val_accuracy: 0.8172\n",
      "Epoch 48/100\n",
      "343/343 [==============================] - 0s 977us/step - loss: 0.4280 - accuracy: 0.8119 - val_loss: 0.4291 - val_accuracy: 0.8166\n",
      "Epoch 49/100\n",
      "343/343 [==============================] - 0s 1ms/step - loss: 0.4219 - accuracy: 0.8109 - val_loss: 0.4288 - val_accuracy: 0.8184\n",
      "Epoch 50/100\n",
      "343/343 [==============================] - 0s 993us/step - loss: 0.4195 - accuracy: 0.8218 - val_loss: 0.4286 - val_accuracy: 0.8172\n",
      "Epoch 51/100\n",
      "343/343 [==============================] - 0s 1ms/step - loss: 0.4407 - accuracy: 0.8043 - val_loss: 0.4284 - val_accuracy: 0.8196\n",
      "Epoch 52/100\n",
      "343/343 [==============================] - 0s 1ms/step - loss: 0.3984 - accuracy: 0.8256 - val_loss: 0.4284 - val_accuracy: 0.8172\n",
      "Epoch 53/100\n",
      "343/343 [==============================] - 0s 1ms/step - loss: 0.4154 - accuracy: 0.8168 - val_loss: 0.4279 - val_accuracy: 0.8190\n",
      "Epoch 54/100\n",
      "343/343 [==============================] - 0s 1ms/step - loss: 0.4257 - accuracy: 0.8072 - val_loss: 0.4278 - val_accuracy: 0.8184\n",
      "Epoch 55/100\n",
      "343/343 [==============================] - 0s 1ms/step - loss: 0.4124 - accuracy: 0.8174 - val_loss: 0.4278 - val_accuracy: 0.8196\n",
      "Epoch 56/100\n",
      "343/343 [==============================] - 0s 1ms/step - loss: 0.4028 - accuracy: 0.8188 - val_loss: 0.4275 - val_accuracy: 0.8184\n",
      "Epoch 57/100\n",
      "343/343 [==============================] - 0s 1ms/step - loss: 0.4066 - accuracy: 0.8173 - val_loss: 0.4274 - val_accuracy: 0.8184\n"
     ]
    },
    {
     "name": "stdout",
     "output_type": "stream",
     "text": [
      "Epoch 58/100\n",
      "343/343 [==============================] - 0s 1ms/step - loss: 0.4288 - accuracy: 0.8068 - val_loss: 0.4270 - val_accuracy: 0.8178\n",
      "Epoch 59/100\n",
      "343/343 [==============================] - 0s 1ms/step - loss: 0.3992 - accuracy: 0.8264 - val_loss: 0.4270 - val_accuracy: 0.8196\n",
      "Epoch 60/100\n",
      "343/343 [==============================] - 0s 1ms/step - loss: 0.4086 - accuracy: 0.8176 - val_loss: 0.4267 - val_accuracy: 0.8196\n",
      "Epoch 61/100\n",
      "343/343 [==============================] - 0s 1ms/step - loss: 0.4079 - accuracy: 0.8169 - val_loss: 0.4264 - val_accuracy: 0.8190\n",
      "Epoch 62/100\n",
      "343/343 [==============================] - 0s 1ms/step - loss: 0.4031 - accuracy: 0.8228 - val_loss: 0.4261 - val_accuracy: 0.8196\n",
      "Epoch 63/100\n",
      "343/343 [==============================] - 0s 1ms/step - loss: 0.4189 - accuracy: 0.8181 - val_loss: 0.4258 - val_accuracy: 0.8190\n",
      "Epoch 64/100\n",
      "343/343 [==============================] - 0s 1ms/step - loss: 0.4218 - accuracy: 0.8157 - val_loss: 0.4256 - val_accuracy: 0.8196\n",
      "Epoch 65/100\n",
      "343/343 [==============================] - 0s 1ms/step - loss: 0.4005 - accuracy: 0.8271 - val_loss: 0.4255 - val_accuracy: 0.8190\n",
      "Epoch 66/100\n",
      "343/343 [==============================] - 0s 1ms/step - loss: 0.4173 - accuracy: 0.8209 - val_loss: 0.4254 - val_accuracy: 0.8202\n",
      "Epoch 67/100\n",
      "343/343 [==============================] - 0s 1ms/step - loss: 0.4144 - accuracy: 0.8176 - val_loss: 0.4251 - val_accuracy: 0.8214\n",
      "Epoch 68/100\n",
      "343/343 [==============================] - 0s 983us/step - loss: 0.4135 - accuracy: 0.8187 - val_loss: 0.4250 - val_accuracy: 0.8196\n",
      "Epoch 69/100\n",
      "343/343 [==============================] - 0s 1ms/step - loss: 0.4087 - accuracy: 0.8162 - val_loss: 0.4247 - val_accuracy: 0.8196\n",
      "Epoch 70/100\n",
      "343/343 [==============================] - 0s 1ms/step - loss: 0.4082 - accuracy: 0.8275 - val_loss: 0.4244 - val_accuracy: 0.8190\n",
      "Epoch 71/100\n",
      "343/343 [==============================] - 0s 1ms/step - loss: 0.4133 - accuracy: 0.8225 - val_loss: 0.4243 - val_accuracy: 0.8190\n",
      "Epoch 72/100\n",
      "343/343 [==============================] - 0s 1ms/step - loss: 0.4100 - accuracy: 0.8160 - val_loss: 0.4240 - val_accuracy: 0.8208\n",
      "Epoch 73/100\n",
      "343/343 [==============================] - 0s 1ms/step - loss: 0.4024 - accuracy: 0.8313 - val_loss: 0.4241 - val_accuracy: 0.8184\n",
      "Epoch 74/100\n",
      "343/343 [==============================] - 0s 1ms/step - loss: 0.4081 - accuracy: 0.8276 - val_loss: 0.4239 - val_accuracy: 0.8196\n",
      "Epoch 75/100\n",
      "343/343 [==============================] - 0s 1ms/step - loss: 0.4027 - accuracy: 0.8244 - val_loss: 0.4234 - val_accuracy: 0.8202\n",
      "Epoch 76/100\n",
      "343/343 [==============================] - 0s 988us/step - loss: 0.4044 - accuracy: 0.8247 - val_loss: 0.4234 - val_accuracy: 0.8184\n",
      "Epoch 77/100\n",
      "343/343 [==============================] - 0s 1ms/step - loss: 0.4094 - accuracy: 0.8191 - val_loss: 0.4231 - val_accuracy: 0.8196\n",
      "Epoch 78/100\n",
      "343/343 [==============================] - 0s 1ms/step - loss: 0.4165 - accuracy: 0.8207 - val_loss: 0.4229 - val_accuracy: 0.8208\n",
      "Epoch 79/100\n",
      "343/343 [==============================] - 0s 1ms/step - loss: 0.3948 - accuracy: 0.8344 - val_loss: 0.4230 - val_accuracy: 0.8190\n",
      "Epoch 80/100\n",
      "343/343 [==============================] - 0s 1ms/step - loss: 0.4089 - accuracy: 0.8252 - val_loss: 0.4227 - val_accuracy: 0.8196\n",
      "Epoch 81/100\n",
      "343/343 [==============================] - 0s 1ms/step - loss: 0.4105 - accuracy: 0.8240 - val_loss: 0.4226 - val_accuracy: 0.8190\n",
      "Epoch 82/100\n",
      "343/343 [==============================] - 0s 1ms/step - loss: 0.4004 - accuracy: 0.8290 - val_loss: 0.4225 - val_accuracy: 0.8202\n",
      "Epoch 83/100\n",
      "343/343 [==============================] - 0s 1ms/step - loss: 0.4150 - accuracy: 0.8224 - val_loss: 0.4222 - val_accuracy: 0.8214\n",
      "Epoch 84/100\n",
      "343/343 [==============================] - 0s 1ms/step - loss: 0.4083 - accuracy: 0.8250 - val_loss: 0.4220 - val_accuracy: 0.8184\n",
      "Epoch 85/100\n",
      "343/343 [==============================] - 0s 1ms/step - loss: 0.4024 - accuracy: 0.8265 - val_loss: 0.4217 - val_accuracy: 0.8208\n",
      "Epoch 86/100\n",
      "343/343 [==============================] - 0s 987us/step - loss: 0.4000 - accuracy: 0.8229 - val_loss: 0.4215 - val_accuracy: 0.8208\n",
      "Epoch 87/100\n",
      "343/343 [==============================] - 0s 1ms/step - loss: 0.4202 - accuracy: 0.8147 - val_loss: 0.4215 - val_accuracy: 0.8214\n",
      "Epoch 88/100\n",
      "343/343 [==============================] - 0s 978us/step - loss: 0.4024 - accuracy: 0.8297 - val_loss: 0.4217 - val_accuracy: 0.8196\n",
      "Epoch 89/100\n",
      "343/343 [==============================] - 0s 1ms/step - loss: 0.4033 - accuracy: 0.8212 - val_loss: 0.4216 - val_accuracy: 0.8196\n",
      "Epoch 90/100\n",
      "343/343 [==============================] - 0s 1ms/step - loss: 0.4128 - accuracy: 0.8227 - val_loss: 0.4214 - val_accuracy: 0.8208\n",
      "Epoch 91/100\n",
      "343/343 [==============================] - 0s 1ms/step - loss: 0.4021 - accuracy: 0.8243 - val_loss: 0.4214 - val_accuracy: 0.8220\n",
      "Epoch 92/100\n",
      "343/343 [==============================] - 0s 973us/step - loss: 0.3962 - accuracy: 0.8334 - val_loss: 0.4210 - val_accuracy: 0.8226\n",
      "Epoch 93/100\n",
      "343/343 [==============================] - 0s 1ms/step - loss: 0.4171 - accuracy: 0.8249 - val_loss: 0.4208 - val_accuracy: 0.8231\n",
      "Epoch 94/100\n",
      "343/343 [==============================] - 0s 1ms/step - loss: 0.3931 - accuracy: 0.8327 - val_loss: 0.4208 - val_accuracy: 0.8208\n",
      "Epoch 95/100\n",
      "343/343 [==============================] - 0s 1ms/step - loss: 0.3868 - accuracy: 0.8291 - val_loss: 0.4205 - val_accuracy: 0.8237\n",
      "Epoch 96/100\n",
      "343/343 [==============================] - 0s 1ms/step - loss: 0.4113 - accuracy: 0.8226 - val_loss: 0.4202 - val_accuracy: 0.8237\n",
      "Epoch 97/100\n",
      "343/343 [==============================] - 0s 1ms/step - loss: 0.4107 - accuracy: 0.8204 - val_loss: 0.4199 - val_accuracy: 0.8237\n",
      "Epoch 98/100\n",
      "343/343 [==============================] - 0s 994us/step - loss: 0.4017 - accuracy: 0.8329 - val_loss: 0.4199 - val_accuracy: 0.8231\n",
      "Epoch 99/100\n",
      "343/343 [==============================] - 0s 1ms/step - loss: 0.4227 - accuracy: 0.8134 - val_loss: 0.4195 - val_accuracy: 0.8231\n",
      "Epoch 100/100\n",
      "343/343 [==============================] - 0s 1ms/step - loss: 0.4125 - accuracy: 0.8247 - val_loss: 0.4193 - val_accuracy: 0.8243\n"
     ]
    }
   ],
   "source": [
    "# Initialising the ANN\n",
    "non_zero_classifier = Sequential()\n",
    "\n",
    "# Adding the input layer and the first hidden layer\n",
    "non_zero_classifier.add(Dense(units = 6, kernel_initializer = 'he_uniform',activation='relu',input_dim = 11))\n",
    "\n",
    "# Adding the second hidden layer\n",
    "non_zero_classifier.add(Dense(units = 6, kernel_initializer = 'he_uniform',activation='relu'))\n",
    "# Adding the output layer\n",
    "non_zero_classifier.add(Dense(units = 1, kernel_initializer = 'glorot_uniform', activation = 'sigmoid'))\n",
    "\n",
    "# Compiling the ANN\n",
    "non_zero_classifier.compile(optimizer = 'Adamax', loss = 'binary_crossentropy', metrics = ['accuracy'])\n",
    "\n",
    "# Fitting the ANN to the Training set\n",
    "model_history=non_zero_classifier.fit(X_train, y_train,validation_split=0.33, batch_size = 10, epochs = 100)"
   ]
  },
  {
   "cell_type": "code",
   "execution_count": 29,
   "metadata": {},
   "outputs": [
    {
     "name": "stdout",
     "output_type": "stream",
     "text": [
      "dict_keys(['loss', 'accuracy', 'val_loss', 'val_accuracy'])\n"
     ]
    },
    {
     "data": {
      "image/png": "[encoded data removed]",
      "text/plain": [
       "<Figure size 432x288 with 1 Axes>"
      ]
     },
     "metadata": {
      "needs_background": "light"
     },
     "output_type": "display_data"
    },
    {
     "data": {
      "text/plain": [
       "<function matplotlib.pyplot.clf()>"
      ]
     },
     "execution_count": 29,
     "metadata": {},
     "output_type": "execute_result"
    }
   ],
   "source": [
    "print(model_history.history.keys())\n",
    "# summarize history for accuracy\n",
    "plt.plot(model_history.history['accuracy'])\n",
    "plt.plot(model_history.history['val_accuracy'])\n",
    "plt.title('model accuracy')\n",
    "plt.ylabel('accuracy')\n",
    "plt.xlabel('epoch')\n",
    "plt.legend(['train', 'test'], loc='upper left')\n",
    "plt.show()\n",
    "plt.clf\n"
   ]
  },
  {
   "cell_type": "code",
   "execution_count": 30,
   "metadata": {},
   "outputs": [
    {
     "data": {
      "image/png": "[encoded data removed]",
      "text/plain": [
       "<Figure size 432x288 with 1 Axes>"
      ]
     },
     "metadata": {
      "needs_background": "light"
     },
     "output_type": "display_data"
    },
    {
     "data": {
      "text/plain": [
       "<function matplotlib.pyplot.clf()>"
      ]
     },
     "execution_count": 30,
     "metadata": {},
     "output_type": "execute_result"
    }
   ],
   "source": [
    "# summarize history for loss\n",
    "plt.plot(model_history.history['loss'])\n",
    "plt.plot(model_history.history['val_loss'])\n",
    "plt.title('model loss')\n",
    "plt.ylabel('loss')\n",
    "plt.xlabel('epoch')\n",
    "plt.legend(['train', 'test'], loc='upper left')\n",
    "plt.show()\n",
    "plt.clf"
   ]
  },
  {
   "cell_type": "markdown",
   "metadata": {},
   "source": [
    "##### Predicting the Test set results"
   ]
  },
  {
   "cell_type": "code",
   "execution_count": 31,
   "metadata": {},
   "outputs": [],
   "source": [
    "y_pred = zero_classifier.predict(X_test)\n",
    "y_pred = (y_pred > 0.5)"
   ]
  },
  {
   "cell_type": "code",
   "execution_count": 32,
   "metadata": {},
   "outputs": [
    {
     "name": "stdout",
     "output_type": "stream",
     "text": [
      "              precision    recall  f1-score   support\n",
      "\n",
      "           0       0.80      0.98      0.88      1001\n",
      "           1       0.67      0.13      0.22       276\n",
      "\n",
      "    accuracy                           0.80      1277\n",
      "   macro avg       0.74      0.56      0.55      1277\n",
      "weighted avg       0.78      0.80      0.74      1277\n",
      "\n",
      "Accuracy: 0.7987470634299139\n"
     ]
    },
    {
     "data": {
      "image/png": "[encoded data removed]",
      "text/plain": [
       "<Figure size 432x288 with 2 Axes>"
      ]
     },
     "metadata": {
      "needs_background": "light"
     },
     "output_type": "display_data"
    }
   ],
   "source": [
    "labels = list(set(y_train))\n",
    "labels.sort()\n",
    "rf_cm = confusion_matrix(y_test,y_pred, labels = labels)\n",
    "ax= plt.subplot()\n",
    "sns.heatmap(rf_cm, annot=True, ax = ax,cmap='Blues',fmt=\"d\"); #annot=True to annotate cells\n",
    "# labels, title and ticks\n",
    "ax.set_xlabel('Predicted');ax.set_ylabel('Actual'); \n",
    "ax.set_title('Confusion matrix of the Decision Tree'); \n",
    "ax.xaxis.set_ticklabels(labels,rotation = 90); \n",
    "ax.yaxis.set_ticklabels(labels,rotation = 0);\n",
    "\n",
    "print(classification_report(y_test, y_pred))\n",
    "\n",
    "print(\"Accuracy:\",accuracy_score(y_pred,y_test))"
   ]
  }
 ],
 "metadata": {
  "kernelspec": {
   "display_name": "Python 3",
   "language": "python",
   "name": "python3"
  },
  "language_info": {
   "codemirror_mode": {
    "name": "ipython",
    "version": 3
   },
   "file_extension": ".py",
   "mimetype": "text/x-python",
   "name": "python",
   "nbconvert_exporter": "python",
   "pygments_lexer": "ipython3",
   "version": "3.8.3"
  }
 },
 "nbformat": 4,
 "nbformat_minor": 4
}
